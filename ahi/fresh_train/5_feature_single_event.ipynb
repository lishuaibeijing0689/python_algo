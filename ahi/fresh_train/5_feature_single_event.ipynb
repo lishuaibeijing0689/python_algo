{
 "cells": [
  {
   "cell_type": "code",
   "execution_count": 1,
   "metadata": {},
   "outputs": [
    {
     "data": {
      "text/plain": [
       "'\\n\\xe7\\x89\\xb9\\xe5\\xbe\\x81\\xe5\\xb7\\xa5\\xe7\\xa8\\x8bDemo -- \\xe5\\x8d\\x95\\xe6\\x9d\\xa1\\xe4\\xba\\x8b\\xe4\\xbb\\xb6\\xe7\\x9a\\x84\\xe7\\x89\\xb9\\xe5\\xbe\\x81\\n\\n\\xe6\\x95\\xb0\\xe6\\x8d\\xae\\xe8\\xaf\\xb4\\xe6\\x98\\x8e\\xef\\xbc\\x9a\\xe8\\xbf\\x99\\xe6\\x98\\xaf\\xe4\\xb8\\x80\\xe4\\xbb\\xbd\\xe4\\xba\\xba\\xe9\\x80\\xa0\\xe7\\x9a\\x84\\xe4\\xba\\xa4\\xe6\\x98\\x93\\xe6\\x95\\xb0\\xe6\\x8d\\xae\\xef\\xbc\\x8c\\xe6\\xaf\\x8f\\xe4\\xb8\\x80\\xe6\\x9d\\xa1\\xe6\\x95\\xb0\\xe6\\x8d\\xae\\xe6\\x98\\xaf\\xe4\\xb8\\x80\\xe5\\xbc\\xa0\\xe9\\x93\\xb6\\xe8\\xa1\\x8c\\xe5\\x8d\\xa1\\xe7\\x9a\\x84\\xe4\\xb8\\x80\\xe7\\xac\\x94\\xe5\\x88\\xb7\\xe5\\x8d\\xa1\\xe4\\xba\\xa4\\xe6\\x98\\x93\\n\\n\\xe5\\xad\\x97\\xe6\\xae\\xb5\\xe8\\xaf\\xb4\\xe6\\x98\\x8e\\xef\\xbc\\x9a\\nAgn_Org_Cnr_Cd\\xef\\xbc\\x9a\\xe4\\xba\\xa4\\xe6\\x98\\x93\\xe6\\x89\\x80\\xe5\\xb1\\x9e\\xe5\\x9b\\xbd\\xe5\\xae\\xb6\\xe7\\x9a\\x84\\xe4\\xbb\\xa3\\xe7\\xa0\\x81\\nClr_Amt\\xef\\xbc\\x9a\\xe4\\xba\\xa4\\xe6\\x98\\x93\\xe9\\x87\\x91\\xe9\\xa2\\x9d\\xef\\xbc\\x88\\xe7\\xbe\\x8e\\xe5\\x85\\x83\\xef\\xbc\\x89\\nExg_Plf_Sys_Srl_Nbr\\xef\\xbc\\x9a\\xe4\\xba\\xa4\\xe6\\x98\\x93\\xe6\\xb5\\x81\\xe6\\xb0\\xb4\\xe5\\x8f\\xb7\\xef\\xbc\\x8c\\xe6\\xaf\\x8f\\xe4\\xb8\\x80\\xe7\\xac\\x94\\xe4\\xba\\xa4\\xe6\\x98\\x93\\xe7\\x9a\\x84\\xe5\\x94\\xaf\\xe4\\xb8\\x80\\xe6\\xa0\\x87\\xe8\\xaf\\x86\\nMain_EAC_Id\\xef\\xbc\\x9a\\xe9\\x93\\xb6\\xe8\\xa1\\x8c\\xe5\\x8d\\xa1\\xe5\\x8f\\xb7\\xef\\xbc\\x8c\\xe5\\xb7\\xb2\\xe8\\x84\\xb1\\xe6\\x95\\x8f\\nMch_Id\\xef\\xbc\\x9a\\xe5\\x95\\x86\\xe6\\x88\\xb7\\xe7\\xbc\\x96\\xe5\\x8f\\xb7\\nMch_Typ_Cd\\xef\\xbc\\x9a\\xe5\\x95\\x86\\xe6\\x88\\xb7\\xe7\\xb1\\xbb\\xe5\\x9e\\x8b\\xe7\\xbc\\x96\\xe7\\xa0\\x81\\nRcd_Dt\\xef\\xbc\\x9a\\xe4\\xba\\xa4\\xe6\\x98\\x93\\xe6\\x97\\xa5\\xe6\\x9c\\x9f\\nRcd_Tm\\xef\\xbc\\x9a\\xe4\\xba\\xa4\\xe6\\x98\\x93\\xe6\\x97\\xb6\\xe9\\x97\\xb4\\nTrx_Typ_Cd\\xef\\xbc\\x9a\\xe4\\xba\\xa4\\xe6\\x98\\x93\\xe7\\xb1\\xbb\\xe5\\x9e\\x8b\\xef\\xbc\\x8cCWD\\xe8\\xa1\\xa8\\xe7\\xa4\\xba\\xe5\\x8f\\x96\\xe7\\x8e\\xb0\\xef\\xbc\\x8cPER\\xe8\\xa1\\xa8\\xe7\\xa4\\xbaPOS\\xe6\\x9c\\xba\\xe5\\x88\\xb7\\xe5\\x8d\\xa1\\n\\n'"
      ]
     },
     "execution_count": 1,
     "metadata": {},
     "output_type": "execute_result"
    }
   ],
   "source": [
    "\"\"\"\n",
    "特征工程Demo -- 单条事件的特征\n",
    "\n",
    "数据说明：这是一份人造的交易数据，每一条数据是一张银行卡的一笔刷卡交易\n",
    "\n",
    "字段说明：\n",
    "Agn_Org_Cnr_Cd：交易所属国家的代码\n",
    "Clr_Amt：交易金额（美元）\n",
    "Exg_Plf_Sys_Srl_Nbr：交易流水号，每一笔交易的唯一标识\n",
    "Main_EAC_Id：银行卡号，已脱敏\n",
    "Mch_Id：商户编号\n",
    "Mch_Typ_Cd：商户类型编码\n",
    "Rcd_Dt：交易日期\n",
    "Rcd_Tm：交易时间\n",
    "Trx_Typ_Cd：交易类型，CWD表示取现，PER表示POS机刷卡\n",
    "\n",
    "\"\"\""
   ]
  },
  {
   "cell_type": "code",
   "execution_count": 2,
   "metadata": {},
   "outputs": [
    {
     "data": {
      "text/html": [
       "<style>.container { width:100% !important; }</style>"
      ],
      "text/plain": [
       "<IPython.core.display.HTML object>"
      ]
     },
     "metadata": {},
     "output_type": "display_data"
    }
   ],
   "source": [
    "# 拓宽notebook\n",
    "from IPython.core.display import display, HTML\n",
    "display(HTML(\"<style>.container { width:100% !important; }</style>\"))"
   ]
  },
  {
   "cell_type": "code",
   "execution_count": 52,
   "metadata": {
    "collapsed": true
   },
   "outputs": [],
   "source": [
    "import json\n",
    "import time\n",
    "import datetime\n",
    "import numpy as np\n",
    "import math\n",
    "from scipy.stats import describe\n",
    "\n",
    "import pandas as pd\n",
    "pd.set_option('display.max_rows',None)\n",
    "pd.set_option('display.max_columns', None)"
   ]
  },
  {
   "cell_type": "code",
   "execution_count": 88,
   "metadata": {
    "collapsed": true
   },
   "outputs": [],
   "source": [
    "from pyspark.sql import Row\n",
    "from pyspark.sql import SparkSession\n",
    "from pyspark import SparkConf, StorageLevel\n",
    "from pyspark.sql.types import *\n",
    "from pyspark.sql import functions\n",
    "\n",
    "conf = SparkConf().setMaster(\"yarn-client\").setAppName(\"feature single\")  # 集群模式\n",
    "# conf = SparkConf().setMaster(\"local[*]\").setAppName(\"feature single\") # local模式\n",
    "conf.set(\"spark.executor.instances\", 10)\n",
    "conf.set(\"spark.executor.memory\", \"5g\")\n",
    "conf.set(\"spark.executor.cores\",\"1\")\n",
    "conf.set(\"spark.driver.memory\", \"5g\")\n",
    "\n",
    "spark = SparkSession.builder.config(conf=conf).getOrCreate()\n",
    "sc = spark.sparkContext"
   ]
  },
  {
   "cell_type": "code",
   "execution_count": 5,
   "metadata": {},
   "outputs": [
    {
     "data": {
      "text/plain": [
       "13851968"
      ]
     },
     "execution_count": 5,
     "metadata": {},
     "output_type": "execute_result"
    }
   ],
   "source": [
    "# 读数据\n",
    "df = spark.read.parquet(\"/data/fresh_train/df_feature_single_event\")\n",
    "df.count()"
   ]
  },
  {
   "cell_type": "code",
   "execution_count": 12,
   "metadata": {},
   "outputs": [
    {
     "data": {
      "text/plain": [
       "[('Agn_Org_Cnr_Cd', 'string'),\n",
       " ('Clr_Amt', 'string'),\n",
       " ('Exg_Plf_Sys_Srl_Nbr', 'string'),\n",
       " ('Main_EAC_Id', 'string'),\n",
       " ('Mch_Id', 'string'),\n",
       " ('Mch_Typ_Cd', 'string'),\n",
       " ('Rcd_Dt', 'string'),\n",
       " ('Rcd_Tm', 'string'),\n",
       " ('Trx_Typ_Cd', 'string'),\n",
       " ('timestamp', 'string')]"
      ]
     },
     "execution_count": 12,
     "metadata": {},
     "output_type": "execute_result"
    }
   ],
   "source": [
    "df.dtypes"
   ]
  },
  {
   "cell_type": "code",
   "execution_count": 7,
   "metadata": {},
   "outputs": [
    {
     "data": {
      "text/plain": [
       "13851968"
      ]
     },
     "execution_count": 7,
     "metadata": {},
     "output_type": "execute_result"
    }
   ],
   "source": [
    "# 数据总量\n",
    "df.count()"
   ]
  },
  {
   "cell_type": "code",
   "execution_count": 8,
   "metadata": {},
   "outputs": [
    {
     "data": {
      "text/plain": [
       "13851968"
      ]
     },
     "execution_count": 8,
     "metadata": {},
     "output_type": "execute_result"
    }
   ],
   "source": [
    "# check 流水号是否有重复\n",
    "df.select(\"Exg_Plf_Sys_Srl_Nbr\").drop_duplicates().count()"
   ]
  },
  {
   "cell_type": "code",
   "execution_count": 9,
   "metadata": {},
   "outputs": [
    {
     "data": {
      "text/plain": [
       "4687513"
      ]
     },
     "execution_count": 9,
     "metadata": {},
     "output_type": "execute_result"
    }
   ],
   "source": [
    "# Main_EAC_Id 数量\n",
    "df.select(\"Main_EAC_Id\").drop_duplicates().count()"
   ]
  },
  {
   "cell_type": "code",
   "execution_count": 10,
   "metadata": {},
   "outputs": [
    {
     "data": {
      "text/html": [
       "<div>\n",
       "<style scoped>\n",
       "    .dataframe tbody tr th:only-of-type {\n",
       "        vertical-align: middle;\n",
       "    }\n",
       "\n",
       "    .dataframe tbody tr th {\n",
       "        vertical-align: top;\n",
       "    }\n",
       "\n",
       "    .dataframe thead th {\n",
       "        text-align: right;\n",
       "    }\n",
       "</style>\n",
       "<table border=\"1\" class=\"dataframe\">\n",
       "  <thead>\n",
       "    <tr style=\"text-align: right;\">\n",
       "      <th></th>\n",
       "      <th>Agn_Org_Cnr_Cd</th>\n",
       "      <th>Clr_Amt</th>\n",
       "      <th>Exg_Plf_Sys_Srl_Nbr</th>\n",
       "      <th>Main_EAC_Id</th>\n",
       "      <th>Mch_Id</th>\n",
       "      <th>Mch_Typ_Cd</th>\n",
       "      <th>Rcd_Dt</th>\n",
       "      <th>Rcd_Tm</th>\n",
       "      <th>Trx_Typ_Cd</th>\n",
       "    </tr>\n",
       "  </thead>\n",
       "  <tbody>\n",
       "    <tr>\n",
       "      <th>0</th>\n",
       "      <td>734</td>\n",
       "      <td>8456.89</td>\n",
       "      <td>000000000049180</td>\n",
       "      <td>O6y2ExaDiS3zcTt</td>\n",
       "      <td>1883638063</td>\n",
       "      <td>7720</td>\n",
       "      <td>2017-01-02</td>\n",
       "      <td>04:23:28</td>\n",
       "      <td>CWD</td>\n",
       "    </tr>\n",
       "    <tr>\n",
       "      <th>1</th>\n",
       "      <td>730</td>\n",
       "      <td>7969.15</td>\n",
       "      <td>000000000049230</td>\n",
       "      <td>3K6OPAAK7GBPDOz</td>\n",
       "      <td>9908690440</td>\n",
       "      <td>5161</td>\n",
       "      <td>2017-01-02</td>\n",
       "      <td>04:25:09</td>\n",
       "      <td>PER</td>\n",
       "    </tr>\n",
       "    <tr>\n",
       "      <th>2</th>\n",
       "      <td>815</td>\n",
       "      <td>6407.78</td>\n",
       "      <td>000000000049280</td>\n",
       "      <td>n2YXilX5Te7CiDU</td>\n",
       "      <td>5784823589</td>\n",
       "      <td>8521</td>\n",
       "      <td>2017-01-02</td>\n",
       "      <td>04:26:45</td>\n",
       "      <td>PER</td>\n",
       "    </tr>\n",
       "    <tr>\n",
       "      <th>3</th>\n",
       "      <td>770</td>\n",
       "      <td>5062.58</td>\n",
       "      <td>000000000049330</td>\n",
       "      <td>0Rc6NTM4zMIKvJD</td>\n",
       "      <td>8445948935</td>\n",
       "      <td>5253</td>\n",
       "      <td>2017-01-02</td>\n",
       "      <td>04:28:20</td>\n",
       "      <td>PER</td>\n",
       "    </tr>\n",
       "    <tr>\n",
       "      <th>4</th>\n",
       "      <td>595</td>\n",
       "      <td>5172.16</td>\n",
       "      <td>000000000049380</td>\n",
       "      <td>hIQWBnm9K7Xyqfr</td>\n",
       "      <td>5237054012</td>\n",
       "      <td>4373</td>\n",
       "      <td>2017-01-02</td>\n",
       "      <td>04:30:03</td>\n",
       "      <td>PER</td>\n",
       "    </tr>\n",
       "  </tbody>\n",
       "</table>\n",
       "</div>"
      ],
      "text/plain": [
       "  Agn_Org_Cnr_Cd  Clr_Amt Exg_Plf_Sys_Srl_Nbr      Main_EAC_Id      Mch_Id  \\\n",
       "0            734  8456.89     000000000049180  O6y2ExaDiS3zcTt  1883638063   \n",
       "1            730  7969.15     000000000049230  3K6OPAAK7GBPDOz  9908690440   \n",
       "2            815  6407.78     000000000049280  n2YXilX5Te7CiDU  5784823589   \n",
       "3            770  5062.58     000000000049330  0Rc6NTM4zMIKvJD  8445948935   \n",
       "4            595  5172.16     000000000049380  hIQWBnm9K7Xyqfr  5237054012   \n",
       "\n",
       "  Mch_Typ_Cd      Rcd_Dt    Rcd_Tm Trx_Typ_Cd  \n",
       "0       7720  2017-01-02  04:23:28        CWD  \n",
       "1       5161  2017-01-02  04:25:09        PER  \n",
       "2       8521  2017-01-02  04:26:45        PER  \n",
       "3       5253  2017-01-02  04:28:20        PER  \n",
       "4       4373  2017-01-02  04:30:03        PER  "
      ]
     },
     "execution_count": 10,
     "metadata": {},
     "output_type": "execute_result"
    }
   ],
   "source": [
    "# 预览几条数据\n",
    "df.limit(5).toPandas()"
   ]
  },
  {
   "cell_type": "code",
   "execution_count": 11,
   "metadata": {},
   "outputs": [
    {
     "name": "stdout",
     "output_type": "stream",
     "text": [
      "+--------------+-------+-------------------+---------------+----------+----------+----------+--------+----------+-------------------+\n",
      "|Agn_Org_Cnr_Cd|Clr_Amt|Exg_Plf_Sys_Srl_Nbr|    Main_EAC_Id|    Mch_Id|Mch_Typ_Cd|    Rcd_Dt|  Rcd_Tm|Trx_Typ_Cd|          timestamp|\n",
      "+--------------+-------+-------------------+---------------+----------+----------+----------+--------+----------+-------------------+\n",
      "|           734|8456.89|    000000000049180|O6y2ExaDiS3zcTt|1883638063|      7720|2017-01-02|04:23:28|       CWD|2017-01-02 04:23:28|\n",
      "|           730|7969.15|    000000000049230|3K6OPAAK7GBPDOz|9908690440|      5161|2017-01-02|04:25:09|       PER|2017-01-02 04:25:09|\n",
      "|           815|6407.78|    000000000049280|n2YXilX5Te7CiDU|5784823589|      8521|2017-01-02|04:26:45|       PER|2017-01-02 04:26:45|\n",
      "|           770|5062.58|    000000000049330|0Rc6NTM4zMIKvJD|8445948935|      5253|2017-01-02|04:28:20|       PER|2017-01-02 04:28:20|\n",
      "|           595|5172.16|    000000000049380|hIQWBnm9K7Xyqfr|5237054012|      4373|2017-01-02|04:30:03|       PER|2017-01-02 04:30:03|\n",
      "+--------------+-------+-------------------+---------------+----------+----------+----------+--------+----------+-------------------+\n",
      "only showing top 5 rows\n",
      "\n"
     ]
    }
   ],
   "source": [
    "# 新增一列：年月，并统计这一列的分布\n",
    "df = df.withColumn(\"timestamp\", functions.concat_ws(\" \", \"Rcd_Dt\", \"Rcd_Tm\"))\n",
    "df.show(5)"
   ]
  },
  {
   "cell_type": "markdown",
   "metadata": {},
   "source": [
    "### 任务1：drop掉Rcd_Dt Rcd_Tm, 把Clr_Amt字段改为double型"
   ]
  },
  {
   "cell_type": "code",
   "execution_count": 15,
   "metadata": {},
   "outputs": [
    {
     "name": "stdout",
     "output_type": "stream",
     "text": [
      "+--------------+-------+-------------------+---------------+----------+----------+----------+-------------------+\n",
      "|Agn_Org_Cnr_Cd|Clr_Amt|Exg_Plf_Sys_Srl_Nbr|    Main_EAC_Id|    Mch_Id|Mch_Typ_Cd|Trx_Typ_Cd|          timestamp|\n",
      "+--------------+-------+-------------------+---------------+----------+----------+----------+-------------------+\n",
      "|           734|8456.89|    000000000049180|O6y2ExaDiS3zcTt|1883638063|      7720|       CWD|2017-01-02 04:23:28|\n",
      "|           730|7969.15|    000000000049230|3K6OPAAK7GBPDOz|9908690440|      5161|       PER|2017-01-02 04:25:09|\n",
      "|           815|6407.78|    000000000049280|n2YXilX5Te7CiDU|5784823589|      8521|       PER|2017-01-02 04:26:45|\n",
      "|           770|5062.58|    000000000049330|0Rc6NTM4zMIKvJD|8445948935|      5253|       PER|2017-01-02 04:28:20|\n",
      "|           595|5172.16|    000000000049380|hIQWBnm9K7Xyqfr|5237054012|      4373|       PER|2017-01-02 04:30:03|\n",
      "+--------------+-------+-------------------+---------------+----------+----------+----------+-------------------+\n",
      "only showing top 5 rows\n",
      "\n"
     ]
    }
   ],
   "source": [
    "df = df.drop(\"Rcd_Dt\", \"Rcd_Tm\")\n",
    "df.show(5)"
   ]
  },
  {
   "cell_type": "code",
   "execution_count": 16,
   "metadata": {},
   "outputs": [
    {
     "data": {
      "text/plain": [
       "[('Agn_Org_Cnr_Cd', 'string'),\n",
       " ('Clr_Amt', 'double'),\n",
       " ('Exg_Plf_Sys_Srl_Nbr', 'string'),\n",
       " ('Main_EAC_Id', 'string'),\n",
       " ('Mch_Id', 'string'),\n",
       " ('Mch_Typ_Cd', 'string'),\n",
       " ('Trx_Typ_Cd', 'string'),\n",
       " ('timestamp', 'string')]"
      ]
     },
     "execution_count": 16,
     "metadata": {},
     "output_type": "execute_result"
    }
   ],
   "source": [
    "df = df.withColumn(\"Clr_Amt\", functions.col(\"Clr_Amt\").cast(DoubleType()))\n",
    "df.dtypes"
   ]
  },
  {
   "cell_type": "code",
   "execution_count": 17,
   "metadata": {},
   "outputs": [
    {
     "data": {
      "text/plain": [
       "DataFrame[Agn_Org_Cnr_Cd: string, Clr_Amt: double, Exg_Plf_Sys_Srl_Nbr: string, Main_EAC_Id: string, Mch_Id: string, Mch_Typ_Cd: string, Trx_Typ_Cd: string, timestamp: string]"
      ]
     },
     "execution_count": 17,
     "metadata": {},
     "output_type": "execute_result"
    }
   ],
   "source": [
    "df.persist()"
   ]
  },
  {
   "cell_type": "markdown",
   "metadata": {},
   "source": [
    "### 任务2：从原字段衍生出新字段，然后取合适的字段，直接作为每一条交易的特征，把特征矩阵保存成parquet文件  \n",
    "#### 特征1：时间戳的小时数\n",
    "#### 特征2：交易金额按1000, 10000分别做分桶\n",
    "#### 特征3：商户类型取前2、3位前缀\n",
    "\n",
    "注意：卡号和时间戳不能直接当做特征（请思考原因？）"
   ]
  },
  {
   "cell_type": "code",
   "execution_count": 53,
   "metadata": {
    "collapsed": true,
    "scrolled": true
   },
   "outputs": [],
   "source": [
    "def udf_get_hour():\n",
    "    def f(x):\n",
    "        return datetime.datetime.strptime(x, \"%Y-%m-%d %H:%M:%S\").hour\n",
    "    return functions.udf(f, IntegerType())\n",
    "\n",
    "def udf_bucket(n):\n",
    "    def f(x):\n",
    "        return int(np.floor(x/n)) * n\n",
    "    return functions.udf(f, IntegerType())\n",
    "\n",
    "def udf_prefix(n):\n",
    "    def f(x):\n",
    "        return x[:n]\n",
    "    return functions.udf(f, StringType())\n"
   ]
  },
  {
   "cell_type": "code",
   "execution_count": 54,
   "metadata": {},
   "outputs": [
    {
     "name": "stdout",
     "output_type": "stream",
     "text": [
      "+--------------+-------+-------------------+---------------+----------+----------+----------+-------------------+--------------+--------+---------+---------+---------+\n",
      "|Agn_Org_Cnr_Cd|Clr_Amt|Exg_Plf_Sys_Srl_Nbr|    Main_EAC_Id|    Mch_Id|Mch_Typ_Cd|Trx_Typ_Cd|          timestamp|timestamp_hour|amt_1000|amt_10000|mch_typ_2|mch_typ_3|\n",
      "+--------------+-------+-------------------+---------------+----------+----------+----------+-------------------+--------------+--------+---------+---------+---------+\n",
      "|           734|8456.89|    000000000049180|O6y2ExaDiS3zcTt|1883638063|      7720|       CWD|2017-01-02 04:23:28|             4|    8000|        0|       77|      772|\n",
      "|           730|7969.15|    000000000049230|3K6OPAAK7GBPDOz|9908690440|      5161|       PER|2017-01-02 04:25:09|             4|    7000|        0|       51|      516|\n",
      "|           815|6407.78|    000000000049280|n2YXilX5Te7CiDU|5784823589|      8521|       PER|2017-01-02 04:26:45|             4|    6000|        0|       85|      852|\n",
      "|           770|5062.58|    000000000049330|0Rc6NTM4zMIKvJD|8445948935|      5253|       PER|2017-01-02 04:28:20|             4|    5000|        0|       52|      525|\n",
      "|           595|5172.16|    000000000049380|hIQWBnm9K7Xyqfr|5237054012|      4373|       PER|2017-01-02 04:30:03|             4|    5000|        0|       43|      437|\n",
      "+--------------+-------+-------------------+---------------+----------+----------+----------+-------------------+--------------+--------+---------+---------+---------+\n",
      "only showing top 5 rows\n",
      "\n"
     ]
    }
   ],
   "source": [
    "df_derive = df.withColumn(\"timestamp_hour\", udf_get_hour()(\"timestamp\")\n",
    "                         ).withColumn(\"amt_1000\", udf_bucket(1000)(\"Clr_Amt\")\n",
    "                                     ).withColumn(\"amt_10000\", udf_bucket(10000)(\"Clr_Amt\")\n",
    "                                     ).withColumn(\"mch_typ_2\", udf_prefix(2)(\"Mch_Typ_Cd\")\n",
    "                                     ).withColumn(\"mch_typ_3\", udf_prefix(3)(\"Mch_Typ_Cd\")\n",
    "                                     )\n",
    "df_derive.show(5)"
   ]
  },
  {
   "cell_type": "code",
   "execution_count": null,
   "metadata": {
    "collapsed": true
   },
   "outputs": [],
   "source": [
    "# 选择一部分字段作为特征\n",
    "cols_to_feature = [\"Exg_Plf_Sys_Srl_Nbr\", \"Agn_Org_Cnr_Cd\", \"Mch_Id\", \n",
    "                   \"Mch_Typ_Cd\", \"mch_typ_2\", \"mch_typ_3\", \n",
    "                   \"timestamp_hour\", \"Clr_Amt\", \"amt_1000\", \"amt_10000\", \"Trx_Typ_Cd\"]\n",
    "\n",
    "df_derive.select(cols_to_feature).write.parquet(\"...\") # 保存到自己的目录下"
   ]
  },
  {
   "cell_type": "code",
   "execution_count": null,
   "metadata": {
    "collapsed": true
   },
   "outputs": [],
   "source": [
    "# TODO 与参考答案对比：/data/fresh_train/df_feature_single_event_answer_param"
   ]
  },
  {
   "cell_type": "markdown",
   "metadata": {},
   "source": [
    "### 任务3：把每张卡片的所有交易groupby起来，按时间排序，然后对每条交易计算如下特征\n",
    "#### 特征1：与前一条事件的对比，比如 与前一条交易的时间差，与前一条同国交易的时间差，与前一条同商户交易的时间差，与前一条交易的商户（或国家）是否相同\n",
    "#### 特征2：当前事件的取值在历史事件中出现的次数和占比，比如 当前交易的国家（或商户）在此前出现过几次，占比是多少\n",
    "#### 特征3：当前事件的金额与历史事件的对比，比如 当前交易金额与历史交易金额的均值的差值、比值以及zscore"
   ]
  },
  {
   "cell_type": "code",
   "execution_count": 67,
   "metadata": {},
   "outputs": [
    {
     "name": "stdout",
     "output_type": "stream",
     "text": [
      "+--------------+-------+-------------------+---------------+----------+----------+----------+-------------------+-------------+\n",
      "|Agn_Org_Cnr_Cd|Clr_Amt|Exg_Plf_Sys_Srl_Nbr|    Main_EAC_Id|    Mch_Id|Mch_Typ_Cd|Trx_Typ_Cd|          timestamp|    ts_mktime|\n",
      "+--------------+-------+-------------------+---------------+----------+----------+----------+-------------------+-------------+\n",
      "|           734|8456.89|    000000000049180|O6y2ExaDiS3zcTt|1883638063|      7720|       CWD|2017-01-02 04:23:28|1.483302208E9|\n",
      "|           730|7969.15|    000000000049230|3K6OPAAK7GBPDOz|9908690440|      5161|       PER|2017-01-02 04:25:09|1.483302309E9|\n",
      "|           815|6407.78|    000000000049280|n2YXilX5Te7CiDU|5784823589|      8521|       PER|2017-01-02 04:26:45|1.483302405E9|\n",
      "|           770|5062.58|    000000000049330|0Rc6NTM4zMIKvJD|8445948935|      5253|       PER|2017-01-02 04:28:20|  1.4833025E9|\n",
      "|           595|5172.16|    000000000049380|hIQWBnm9K7Xyqfr|5237054012|      4373|       PER|2017-01-02 04:30:03|1.483302603E9|\n",
      "+--------------+-------+-------------------+---------------+----------+----------+----------+-------------------+-------------+\n",
      "only showing top 5 rows\n",
      "\n"
     ]
    }
   ],
   "source": [
    "# 添加一个字段：timestamp的float值，即，时间戳与1970-01-01的秒数差\n",
    "def udf_ts_mktime(time_format=\"%Y-%m-%d %H:%M:%S\"):\n",
    "    def f(x):\n",
    "        return time.mktime(datetime.datetime.strptime(x, time_format).timetuple())\n",
    "    return functions.udf(f, DoubleType())\n",
    "\n",
    "df = df.withColumn(\"ts_mktime\", udf_ts_mktime()(\"timestamp\"))\n",
    "df.show(5)"
   ]
  },
  {
   "cell_type": "code",
   "execution_count": 68,
   "metadata": {
    "collapsed": true
   },
   "outputs": [],
   "source": [
    "rdd = df.rdd.map(list).persist()\n",
    "schema = df.columns"
   ]
  },
  {
   "cell_type": "code",
   "execution_count": 106,
   "metadata": {},
   "outputs": [
    {
     "data": {
      "text/plain": [
       "[[u'734',\n",
       "  8456.89,\n",
       "  u'000000000049180',\n",
       "  u'O6y2ExaDiS3zcTt',\n",
       "  u'1883638063',\n",
       "  u'7720',\n",
       "  u'CWD',\n",
       "  u'2017-01-02 04:23:28',\n",
       "  1483302208.0],\n",
       " [u'316',\n",
       "  7104.6,\n",
       "  u'000000003240334',\n",
       "  u'O6y2ExaDiS3zcTt',\n",
       "  u'5057487012',\n",
       "  u'9937',\n",
       "  u'PER',\n",
       "  u'2017-03-17 01:13:04',\n",
       "  1489684384.0]]"
      ]
     },
     "execution_count": 106,
     "metadata": {},
     "output_type": "execute_result"
    }
   ],
   "source": [
    "# 先挑选某张卡片的事件，生成events，用于测试特征函数\n",
    "ind_ts = schema.index(\"timestamp\")\n",
    "events = df.filter(functions.col(\"Main_EAC_Id\")==\"O6y2ExaDiS3zcTt\").rdd.map(list).collect()\n",
    "events = sorted(events, key=lambda x: x[ind_ts])\n",
    "events"
   ]
  },
  {
   "cell_type": "code",
   "execution_count": 107,
   "metadata": {
    "collapsed": true
   },
   "outputs": [],
   "source": [
    "# 特征函数\n",
    "def features(events, schema):\n",
    "    \"\"\" 特征函数主函数 \"\"\"\n",
    "    ret_ls = []\n",
    "    ind_nbr = schema.index(\"Exg_Plf_Sys_Srl_Nbr\")\n",
    "    for i,e in enumerate(events):\n",
    "        current_event = e  # 当前交易\n",
    "        history_events = events[:i] # 历史交易\n",
    "        ret = dict()\n",
    "        ret.update(feature1(current_event, history_events, schema))\n",
    "        ret.update(feature2(current_event, history_events, schema))\n",
    "        ret.update(feature3(current_event, history_events, schema))\n",
    "        ret.update({\"Exg_Plf_Sys_Srl_Nbr\": e[ind_nbr]})\n",
    "        ret_ls.append(ret)\n",
    "    return ret_ls\n",
    "        \n",
    "\n",
    "def feature1(current_event, history_events, schema):\n",
    "    \"\"\" 特征1 \"\"\"\n",
    "    ind_ts = schema.index(\"ts_mktime\")\n",
    "    ret = dict()\n",
    "    if not history_events:\n",
    "        ret[\"ts_diff\"] = -1\n",
    "        for col in [\"Agn_Org_Cnr_Cd\", \"Mch_Id\"]:\n",
    "            ret[\"same_%s\" % col] = -1\n",
    "        for col in [\"Agn_Org_Cnr_Cd\", \"Mch_Id\"]:\n",
    "            ret[\"ts_diff_same_%s\" % col] = -1\n",
    "        return ret\n",
    "    \n",
    "    ret[\"ts_diff\"] = current_event[ind_ts] - history_events[-1][ind_ts]\n",
    "    for col in [\"Agn_Org_Cnr_Cd\", \"Mch_Id\"]:\n",
    "        ind = schema.index(col)\n",
    "        if current_event[ind]==history_events[-1][ind]:\n",
    "            ret[\"same_%s\" % col] = 1\n",
    "        else:\n",
    "            ret[\"same_%s\" % col] = 0\n",
    "    \n",
    "    for col in [\"Agn_Org_Cnr_Cd\", \"Mch_Id\"]:\n",
    "        ind = schema.index(col)\n",
    "        history_events_same = [e for e in history_events if e[ind]==current_event[ind]]\n",
    "        if not history_events_same:\n",
    "            ret[\"ts_diff_same_%s\" % col] = -1\n",
    "        else:\n",
    "            ret[\"ts_diff_same_%s\" % col] = current_event[ind_ts] - history_events_same[-1][ind_ts]\n",
    "    return ret\n",
    "    \n",
    "def feature2(current_event, history_events, schema):\n",
    "    \"\"\" 特征2 \"\"\"\n",
    "    ret = dict()\n",
    "    for col in [\"Agn_Org_Cnr_Cd\", \"Mch_Id\"]:\n",
    "        ind = schema.index(col)\n",
    "        ret[\"history_%s_eventcnt\" % col] = len([1 for e in history_events if e[ind]==current_event[ind]])\n",
    "        if not history_events:\n",
    "            ret[\"history_%s_eventratio\" % col] = -1\n",
    "        else:\n",
    "            ret[\"history_%s_eventratio\" % col] = 1.0*ret[\"history_%s_eventcnt\" % col]/len(history_events)\n",
    "    return ret\n",
    "\n",
    "def feature3(current_event, history_events, schema):\n",
    "    \"\"\" 特征3 \"\"\"\n",
    "    ret = dict()\n",
    "    ind = schema.index(\"Clr_Amt\")\n",
    "    if not history_events:\n",
    "        ret[\"amt_diff\"] = -1\n",
    "        ret[\"amt_diff_ratio\"] = -1\n",
    "        ret[\"amt_zscore\"] = -1\n",
    "        return ret\n",
    "        \n",
    "    amt_ls = [e[ind] for e in history_events]\n",
    "    amt_avg = np.mean(amt_ls)\n",
    "    amt_std = np.std(amt_ls)\n",
    "    ret[\"amt_diff\"] = float(current_event[ind] - amt_avg)\n",
    "    ret[\"amt_diff_ratio\"] = float(1.0*current_event[ind]/(amt_avg + 1e-8))\n",
    "    ret[\"amt_zscore\"] = float(1.0*(current_event[ind] - amt_avg)/(amt_std + 1e-8))\n",
    "    return ret\n",
    "    "
   ]
  },
  {
   "cell_type": "code",
   "execution_count": 108,
   "metadata": {
    "scrolled": true
   },
   "outputs": [
    {
     "data": {
      "text/plain": [
       "[{'Exg_Plf_Sys_Srl_Nbr': u'000000000049180',\n",
       "  'amt_diff': -1,\n",
       "  'amt_diff_ratio': -1,\n",
       "  'amt_zscore': -1,\n",
       "  'history_Agn_Org_Cnr_Cd_eventcnt': 0,\n",
       "  'history_Agn_Org_Cnr_Cd_eventratio': -1,\n",
       "  'history_Mch_Id_eventcnt': 0,\n",
       "  'history_Mch_Id_eventratio': -1,\n",
       "  'same_Agn_Org_Cnr_Cd': -1,\n",
       "  'same_Mch_Id': -1,\n",
       "  'ts_diff': -1,\n",
       "  'ts_diff_same_Agn_Org_Cnr_Cd': -1,\n",
       "  'ts_diff_same_Mch_Id': -1},\n",
       " {'Exg_Plf_Sys_Srl_Nbr': u'000000003240334',\n",
       "  'amt_diff': -1352.289999999999,\n",
       "  'amt_diff_ratio': 0.8400960636819917,\n",
       "  'amt_zscore': -135228999999.99991,\n",
       "  'history_Agn_Org_Cnr_Cd_eventcnt': 0,\n",
       "  'history_Agn_Org_Cnr_Cd_eventratio': 0.0,\n",
       "  'history_Mch_Id_eventcnt': 0,\n",
       "  'history_Mch_Id_eventratio': 0.0,\n",
       "  'same_Agn_Org_Cnr_Cd': 0,\n",
       "  'same_Mch_Id': 0,\n",
       "  'ts_diff': 6382176.0,\n",
       "  'ts_diff_same_Agn_Org_Cnr_Cd': -1,\n",
       "  'ts_diff_same_Mch_Id': -1}]"
      ]
     },
     "execution_count": 108,
     "metadata": {},
     "output_type": "execute_result"
    }
   ],
   "source": [
    "features(events, schema)"
   ]
  },
  {
   "cell_type": "code",
   "execution_count": 109,
   "metadata": {
    "scrolled": true
   },
   "outputs": [
    {
     "data": {
      "text/plain": [
       "[{'Exg_Plf_Sys_Srl_Nbr': u'000000007289427',\n",
       "  'amt_diff': -1,\n",
       "  'amt_diff_ratio': -1,\n",
       "  'amt_zscore': -1,\n",
       "  'history_Agn_Org_Cnr_Cd_eventcnt': 0,\n",
       "  'history_Agn_Org_Cnr_Cd_eventratio': -1,\n",
       "  'history_Mch_Id_eventcnt': 0,\n",
       "  'history_Mch_Id_eventratio': -1,\n",
       "  'same_Agn_Org_Cnr_Cd': -1,\n",
       "  'same_Mch_Id': -1,\n",
       "  'ts_diff': -1,\n",
       "  'ts_diff_same_Agn_Org_Cnr_Cd': -1,\n",
       "  'ts_diff_same_Mch_Id': -1},\n",
       " {'Exg_Plf_Sys_Srl_Nbr': u'000000009753659',\n",
       "  'amt_diff': -788.74,\n",
       "  'amt_diff_ratio': 0.05169884819713253,\n",
       "  'amt_zscore': -78874000000.0,\n",
       "  'history_Agn_Org_Cnr_Cd_eventcnt': 0,\n",
       "  'history_Agn_Org_Cnr_Cd_eventratio': 0.0,\n",
       "  'history_Mch_Id_eventcnt': 0,\n",
       "  'history_Mch_Id_eventratio': 0.0,\n",
       "  'same_Agn_Org_Cnr_Cd': 0,\n",
       "  'same_Mch_Id': 0,\n",
       "  'ts_diff': 4929215.0,\n",
       "  'ts_diff_same_Agn_Org_Cnr_Cd': -1,\n",
       "  'ts_diff_same_Mch_Id': -1}]"
      ]
     },
     "execution_count": 109,
     "metadata": {},
     "output_type": "execute_result"
    }
   ],
   "source": [
    "ind_eacid = schema.index(\"Main_EAC_Id\")\n",
    "ind_ts = schema.index(\"timestamp\")\n",
    "\n",
    "rdd_feature = rdd.map(lambda x: (x[ind_eacid], x)\n",
    "       ).groupByKey().map(lambda x: sorted(list(x[1]), key=lambda y: y[ind_ts])\n",
    "                         ).flatMap(lambda x: features(x, schema)\n",
    "                                  )\n",
    "rdd_feature.take(2)"
   ]
  },
  {
   "cell_type": "code",
   "execution_count": 111,
   "metadata": {
    "collapsed": true
   },
   "outputs": [],
   "source": [
    "# 生成特征矩阵，并保存起来\n",
    "feature_schema = features(events, schema)[0].keys()\n",
    "\n",
    "df_feature = spark.createDataFrame(rdd_feature.map(lambda x: [x[k] for k in feature_schema]), schema=feature_schema)"
   ]
  },
  {
   "cell_type": "code",
   "execution_count": 112,
   "metadata": {
    "collapsed": true
   },
   "outputs": [],
   "source": [
    "df_feature.write.mode(\"Overwrite\").parquet(...) # 写入你的目录里"
   ]
  },
  {
   "cell_type": "code",
   "execution_count": null,
   "metadata": {
    "collapsed": true
   },
   "outputs": [],
   "source": [
    "# TODO 与参考答案对比：/data/fresh_train/df_feature_single_event_answer_diff"
   ]
  },
  {
   "cell_type": "markdown",
   "metadata": {},
   "source": [
    "### 任务4：计算全局统计特征，保存成df\n",
    "#### 特征1：每个商户有多少条事件，join到每一条交易上\n",
    "#### 特征2：每个国家出现过多少个卡片，join到每一条交易上\n",
    "#### 特征3：计算全局交易金额的100个分位数，然后给每一条交易的金额赋值其所属的分位数值"
   ]
  },
  {
   "cell_type": "code",
   "execution_count": 114,
   "metadata": {},
   "outputs": [
    {
     "name": "stdout",
     "output_type": "stream",
     "text": [
      "+----------+---------------------+\n",
      "|    Mch_Id|global_mchid_eventcnt|\n",
      "+----------+---------------------+\n",
      "|4313943796|                  275|\n",
      "|5815197939|                  279|\n",
      "|9593487685|                  245|\n",
      "|8649911703|                  272|\n",
      "|5598132391|                  254|\n",
      "+----------+---------------------+\n",
      "only showing top 5 rows\n",
      "\n"
     ]
    }
   ],
   "source": [
    "# 特征1\n",
    "df_feature1 = df.select(\"Mch_Id\").groupby(\"Mch_Id\").count().withColumnRenamed(\"count\", \"global_mchid_eventcnt\")\n",
    "df_feature1.show(5)"
   ]
  },
  {
   "cell_type": "code",
   "execution_count": 115,
   "metadata": {},
   "outputs": [
    {
     "name": "stdout",
     "output_type": "stream",
     "text": [
      "+--------------+-----------------+\n",
      "|Agn_Org_Cnr_Cd|global_cnr_eaccnt|\n",
      "+--------------+-----------------+\n",
      "|           574|           145185|\n",
      "|           851|           144726|\n",
      "|           495|           146813|\n",
      "|           101|           133681|\n",
      "|           986|           132078|\n",
      "+--------------+-----------------+\n",
      "only showing top 5 rows\n",
      "\n"
     ]
    }
   ],
   "source": [
    "# 特征2\n",
    "df_feature2 = df.select([\"Agn_Org_Cnr_Cd\", \"Main_EAC_Id\"]\n",
    "                       ).drop_duplicates().groupby(\"Agn_Org_Cnr_Cd\"\n",
    "                                                  ).count().withColumnRenamed(\"count\", \"global_cnr_eaccnt\")\n",
    "df_feature2.show(5)"
   ]
  },
  {
   "cell_type": "code",
   "execution_count": 116,
   "metadata": {
    "scrolled": true
   },
   "outputs": [
    {
     "data": {
      "text/plain": [
       "[(0.5, 0.0),\n",
       " (100.38, 0.01),\n",
       " (200.39, 0.02),\n",
       " (300.68, 0.03),\n",
       " (400.93, 0.04),\n",
       " (501.23, 0.05),\n",
       " (601.31, 0.06),\n",
       " (700.99, 0.07),\n",
       " (800.7, 0.08),\n",
       " (900.61, 0.09),\n",
       " (1000.79, 0.1),\n",
       " (1100.25, 0.11),\n",
       " (1200.53, 0.12),\n",
       " (1300.71, 0.13),\n",
       " (1401.01, 0.14),\n",
       " (1500.94, 0.15),\n",
       " (1601.17, 0.16),\n",
       " (1701.13, 0.17),\n",
       " (1801.11, 0.18),\n",
       " (1900.98, 0.19),\n",
       " (2001.1, 0.2),\n",
       " (2100.74, 0.21),\n",
       " (2200.98, 0.22),\n",
       " (2301.15, 0.23),\n",
       " (2400.84, 0.24),\n",
       " (2500.78, 0.25),\n",
       " (2600.88, 0.26),\n",
       " (2701.16, 0.27),\n",
       " (2801.14, 0.28),\n",
       " (2901.47, 0.29),\n",
       " (3001.27, 0.3),\n",
       " (3101.28, 0.31),\n",
       " (3201.51, 0.32),\n",
       " (3301.82, 0.33),\n",
       " (3401.7, 0.34),\n",
       " (3502.2, 0.35),\n",
       " (3601.86, 0.36),\n",
       " (3701.54, 0.37),\n",
       " (3801.89, 0.38),\n",
       " (3901.73, 0.39),\n",
       " (4002.28, 0.4),\n",
       " (4102.31, 0.41),\n",
       " (4201.97, 0.42),\n",
       " (4301.68, 0.43),\n",
       " (4401.61, 0.44),\n",
       " (4501.83, 0.45),\n",
       " (4601.69, 0.46),\n",
       " (4701.74, 0.47),\n",
       " (4801.84, 0.48),\n",
       " (4902.24, 0.49),\n",
       " (5002.14, 0.5),\n",
       " (5102.13, 0.51),\n",
       " (5202.44, 0.52),\n",
       " (5302.36, 0.53),\n",
       " (5402.84, 0.54),\n",
       " (5502.95, 0.55),\n",
       " (5602.75, 0.56),\n",
       " (5702.79, 0.57),\n",
       " (5802.75, 0.58),\n",
       " (5902.4, 0.59),\n",
       " (6002.15, 0.6),\n",
       " (6102.14, 0.61),\n",
       " (6202.04, 0.62),\n",
       " (6301.99, 0.63),\n",
       " (6401.64, 0.64),\n",
       " (6501.5, 0.65),\n",
       " (6601.84, 0.66),\n",
       " (6702.15, 0.67),\n",
       " (6802.76, 0.68),\n",
       " (6903.43, 0.69),\n",
       " (7003.45, 0.7),\n",
       " (7102.97, 0.71),\n",
       " (7203.0, 0.72),\n",
       " (7302.99, 0.73),\n",
       " (7402.75, 0.74),\n",
       " (7502.71, 0.75),\n",
       " (7603.07, 0.76),\n",
       " (7702.97, 0.77),\n",
       " (7802.75, 0.78),\n",
       " (7902.67, 0.79),\n",
       " (8002.84, 0.8),\n",
       " (8102.23, 0.81),\n",
       " (8201.84, 0.82),\n",
       " (8301.64, 0.83),\n",
       " (8401.55, 0.84),\n",
       " (8501.65, 0.85),\n",
       " (8601.63, 0.86),\n",
       " (8701.11, 0.87),\n",
       " (8801.41, 0.88),\n",
       " (8901.53, 0.89),\n",
       " (9001.04, 0.9),\n",
       " (9101.01, 0.91),\n",
       " (9200.98, 0.92),\n",
       " (9300.91, 0.93),\n",
       " (9400.71, 0.94),\n",
       " (9500.74, 0.95),\n",
       " (9600.75, 0.96),\n",
       " (9700.55, 0.97),\n",
       " (9800.63, 0.98),\n",
       " (9900.26, 0.99)]"
      ]
     },
     "execution_count": 116,
     "metadata": {},
     "output_type": "execute_result"
    }
   ],
   "source": [
    "# 特征3\n",
    "def df_get_rank_map_dict(df, col, rank_range=100, err=0):\n",
    "    \"\"\" 对单个字段按取值大小顺序排序，输出100分位数对应的取值字典 \"\"\"\n",
    "    col_count = df.count()\n",
    "    if col_count < rank_range:\n",
    "        rank_range = col_count\n",
    "    prec_list = [1.0 * x / rank_range for x in range(rank_range)]\n",
    "    return zip(df.approxQuantile(col, prec_list, err), prec_list)\n",
    "\n",
    "amt_rank_map = df_get_rank_map_dict(df, \"Clr_Amt\")\n",
    "amt_rank_map"
   ]
  },
  {
   "cell_type": "code",
   "execution_count": 117,
   "metadata": {},
   "outputs": [
    {
     "name": "stdout",
     "output_type": "stream",
     "text": [
      "+-------+---------------+\n",
      "|Clr_Amt|global_amt_rank|\n",
      "+-------+---------------+\n",
      "| 8920.4|            0.9|\n",
      "|7475.33|           0.75|\n",
      "|1268.66|           0.13|\n",
      "|5760.11|           0.58|\n",
      "|3411.23|           0.35|\n",
      "+-------+---------------+\n",
      "only showing top 5 rows\n",
      "\n"
     ]
    }
   ],
   "source": [
    "import bisect\n",
    "\n",
    "def udf_feature_rank(amt_rank_map):\n",
    "    def f(x):\n",
    "        values = [i[0] for i in amt_rank_map]\n",
    "        index_ls = [i[1] for i in amt_rank_map]\n",
    "        index_bisect = bisect.bisect_left(values, x) # 二分查找\n",
    "        if index_bisect == len(values):\n",
    "            index_bisect = len(values) - 1\n",
    "        return index_ls[index_bisect]\n",
    "    return functions.udf(f, DoubleType())\n",
    "\n",
    "df_feature3 = df.select(\"Clr_Amt\"\n",
    "                       ).drop_duplicates().withColumn(\"global_amt_rank\", udf_feature_rank(amt_rank_map)(\"Clr_Amt\"))\n",
    "df_feature3.show(5)"
   ]
  },
  {
   "cell_type": "code",
   "execution_count": 120,
   "metadata": {},
   "outputs": [
    {
     "name": "stdout",
     "output_type": "stream",
     "text": [
      "+-------------------+---------------------+-----------------+---------------+\n",
      "|Exg_Plf_Sys_Srl_Nbr|global_mchid_eventcnt|global_cnr_eaccnt|global_amt_rank|\n",
      "+-------------------+---------------------+-----------------+---------------+\n",
      "|    000000018840546|                  255|           136695|           0.01|\n",
      "|    000000012160437|                  294|           137955|           0.01|\n",
      "|    000000009794165|                  292|           133681|           0.01|\n",
      "|    000000015931474|                  285|           143701|           0.01|\n",
      "|    000000016059207|                  267|           130228|           0.01|\n",
      "+-------------------+---------------------+-----------------+---------------+\n",
      "only showing top 5 rows\n",
      "\n"
     ]
    }
   ],
   "source": [
    "# 特征矩阵join回df\n",
    "df_feature_final = df\n",
    "df_feature_final = df_feature_final.join(df_feature1, how=\"left\", on=\"Mch_Id\")\n",
    "df_feature_final = df_feature_final.join(df_feature2, how=\"left\", on=\"Agn_Org_Cnr_Cd\")\n",
    "df_feature_final = df_feature_final.join(df_feature3, how=\"left\", on=\"Clr_Amt\")\n",
    "df_feature_final.select([\"Exg_Plf_Sys_Srl_Nbr\", \"global_mchid_eventcnt\", \"global_cnr_eaccnt\", \"global_amt_rank\"]).show(5)"
   ]
  },
  {
   "cell_type": "code",
   "execution_count": 121,
   "metadata": {
    "collapsed": true
   },
   "outputs": [],
   "source": [
    "df_feature_final.select([\"Exg_Plf_Sys_Srl_Nbr\", \"global_mchid_eventcnt\", \"global_cnr_eaccnt\", \"global_amt_rank\"]\n",
    "                       ).write.parquet(...)  # 写入你自己的目录"
   ]
  },
  {
   "cell_type": "code",
   "execution_count": null,
   "metadata": {
    "collapsed": true
   },
   "outputs": [],
   "source": [
    "# TODO 与参考答案对比：/data/fresh_train/df_feature_single_event_answer_global"
   ]
  },
  {
   "cell_type": "markdown",
   "metadata": {},
   "source": [
    "### 任务5：把任务2、3、4生成的特征全部join到一起，生成最终版特征矩阵"
   ]
  },
  {
   "cell_type": "code",
   "execution_count": 123,
   "metadata": {},
   "outputs": [
    {
     "data": {
      "text/plain": [
       "(13851968, 13851968, 13851968)"
      ]
     },
     "execution_count": 123,
     "metadata": {},
     "output_type": "execute_result"
    }
   ],
   "source": [
    "df_feature1 = spark.read.parquet(\"/data/fresh_train/df_feature_single_event_answer_param\")\n",
    "df_feature2 = spark.read.parquet(\"/data/fresh_train/df_feature_single_event_answer_diff\")\n",
    "df_feature3 = spark.read.parquet(\"/data/fresh_train/df_feature_single_event_answer_global\")\n",
    "\n",
    "df_feature1.count(), df_feature2.count(), df_feature3.count()  # 三个矩阵的样本数量需要相同"
   ]
  },
  {
   "cell_type": "code",
   "execution_count": 124,
   "metadata": {},
   "outputs": [
    {
     "data": {
      "text/plain": [
       "13851968"
      ]
     },
     "execution_count": 124,
     "metadata": {},
     "output_type": "execute_result"
    }
   ],
   "source": [
    "df_feature_final = df_feature1\n",
    "df_feature_final = df_feature_final.join(df_feature2, how=\"inner\", on=\"Exg_Plf_Sys_Srl_Nbr\")\n",
    "df_feature_final = df_feature_final.join(df_feature3, how=\"inner\", on=\"Exg_Plf_Sys_Srl_Nbr\")\n",
    "df_feature_final.count()"
   ]
  },
  {
   "cell_type": "code",
   "execution_count": 126,
   "metadata": {
    "collapsed": true
   },
   "outputs": [],
   "source": [
    "df_feature_final.write.parquet(...) # 写入你自己的目录"
   ]
  },
  {
   "cell_type": "code",
   "execution_count": null,
   "metadata": {
    "collapsed": true
   },
   "outputs": [],
   "source": [
    "# TODO 与参考答案对比：/data/fresh_train/df_feature_single_event_answer"
   ]
  }
 ],
 "metadata": {
  "kernelspec": {
   "display_name": "Python 2",
   "language": "python",
   "name": "python2"
  },
  "language_info": {
   "codemirror_mode": {
    "name": "ipython",
    "version": 2
   },
   "file_extension": ".py",
   "mimetype": "text/x-python",
   "name": "python",
   "nbconvert_exporter": "python",
   "pygments_lexer": "ipython2",
   "version": "2.7.16"
  }
 },
 "nbformat": 4,
 "nbformat_minor": 2
}
