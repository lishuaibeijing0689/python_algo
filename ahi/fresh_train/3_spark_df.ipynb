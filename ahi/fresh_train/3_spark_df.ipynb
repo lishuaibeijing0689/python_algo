{
 "cells": [
  {
   "cell_type": "code",
   "execution_count": 13,
   "metadata": {},
   "outputs": [
    {
     "data": {
      "text/plain": [
       "'\\nspark dataframe \\xe5\\xb8\\xb8\\xe7\\x94\\xa8\\xe5\\x87\\xbd\\xe6\\x95\\xb0\\xe7\\xbb\\x83\\xe4\\xb9\\xa0\\n'"
      ]
     },
     "execution_count": 13,
     "metadata": {},
     "output_type": "execute_result"
    }
   ],
   "source": [
    "\"\"\"\n",
    "spark dataframe 常用函数练习\n",
    "\"\"\""
   ]
  },
  {
   "cell_type": "code",
   "execution_count": 14,
   "metadata": {
    "collapsed": true
   },
   "outputs": [],
   "source": [
    "import json\n",
    "import pandas as pd\n",
    "pd.set_option('display.max_rows',None)\n",
    "pd.set_option('display.max_columns', None)"
   ]
  },
  {
   "cell_type": "markdown",
   "metadata": {},
   "source": [
    "### 提交spark任务"
   ]
  },
  {
   "cell_type": "code",
   "execution_count": 2,
   "metadata": {
    "collapsed": true
   },
   "outputs": [],
   "source": [
    "from pyspark.sql import SparkSession\n",
    "from pyspark import SparkConf, StorageLevel\n",
    "from pyspark.sql.types import *\n",
    "from pyspark.sql import functions\n",
    "\n",
    "conf = SparkConf().setMaster(\"yarn-client\").setAppName(\"spark exercise df\")  # 集群模式\n",
    "# conf = SparkConf().setMaster(\"local[*]\").setAppName(\"antilaunder demo\") # local模式\n",
    "conf.set(\"spark.executor.instances\", 10)\n",
    "conf.set(\"spark.executor.memory\", \"5g\")\n",
    "conf.set(\"spark.executor.cores\",\"1\")\n",
    "conf.set(\"spark.driver.memory\", \"5g\")\n",
    "\n",
    "spark = SparkSession.builder.config(conf=conf).getOrCreate()\n",
    "sc = spark.sparkContext"
   ]
  },
  {
   "cell_type": "markdown",
   "metadata": {},
   "source": [
    "### 读取文件  "
   ]
  },
  {
   "cell_type": "code",
   "execution_count": 3,
   "metadata": {},
   "outputs": [
    {
     "data": {
      "text/plain": [
       "4195696"
      ]
     },
     "execution_count": 3,
     "metadata": {},
     "output_type": "execute_result"
    }
   ],
   "source": [
    "df = spark.read.parquet(\"/data/fresh_train/df_rawlog\")  # read.parquet--读parquet文件 read.csv--读csv文件\n",
    "df.count()"
   ]
  },
  {
   "cell_type": "code",
   "execution_count": 15,
   "metadata": {},
   "outputs": [
    {
     "data": {
      "text/html": [
       "<div>\n",
       "<style scoped>\n",
       "    .dataframe tbody tr th:only-of-type {\n",
       "        vertical-align: middle;\n",
       "    }\n",
       "\n",
       "    .dataframe tbody tr th {\n",
       "        vertical-align: top;\n",
       "    }\n",
       "\n",
       "    .dataframe thead th {\n",
       "        text-align: right;\n",
       "    }\n",
       "</style>\n",
       "<table border=\"1\" class=\"dataframe\">\n",
       "  <thead>\n",
       "    <tr style=\"text-align: right;\">\n",
       "      <th></th>\n",
       "      <th>answers_count</th>\n",
       "      <th>app_version</th>\n",
       "      <th>bbs_title</th>\n",
       "      <th>best_answer_time</th>\n",
       "      <th>blog_title</th>\n",
       "      <th>bury</th>\n",
       "      <th>category</th>\n",
       "      <th>checkout_status</th>\n",
       "      <th>checkout_user_id</th>\n",
       "      <th>comments_count</th>\n",
       "      <th>created_time</th>\n",
       "      <th>device_model</th>\n",
       "      <th>digg</th>\n",
       "      <th>dup_resource_id</th>\n",
       "      <th>email</th>\n",
       "      <th>event_type</th>\n",
       "      <th>focus_count</th>\n",
       "      <th>forum_id</th>\n",
       "      <th>gps</th>\n",
       "      <th>id</th>\n",
       "      <th>ip</th>\n",
       "      <th>is_recommend</th>\n",
       "      <th>is_tech</th>\n",
       "      <th>last_edit_time</th>\n",
       "      <th>last_post_id</th>\n",
       "      <th>login_result</th>\n",
       "      <th>mobile</th>\n",
       "      <th>node-uuid</th>\n",
       "      <th>os_type</th>\n",
       "      <th>os_version</th>\n",
       "      <th>phone_name</th>\n",
       "      <th>point</th>\n",
       "      <th>posts_count</th>\n",
       "      <th>question_id</th>\n",
       "      <th>question_title</th>\n",
       "      <th>register_type</th>\n",
       "      <th>resource_category</th>\n",
       "      <th>resource_duplicate_status</th>\n",
       "      <th>resource_id</th>\n",
       "      <th>resource_owner</th>\n",
       "      <th>resource_score</th>\n",
       "      <th>resource_title</th>\n",
       "      <th>resource_type</th>\n",
       "      <th>resource_user_type</th>\n",
       "      <th>status</th>\n",
       "      <th>summary</th>\n",
       "      <th>time_stamp</th>\n",
       "      <th>topic_detail_id</th>\n",
       "      <th>uid</th>\n",
       "      <th>updated_time</th>\n",
       "      <th>user_agent</th>\n",
       "      <th>user_id</th>\n",
       "      <th>user_name</th>\n",
       "      <th>view_count</th>\n",
       "      <th>visits_count</th>\n",
       "    </tr>\n",
       "  </thead>\n",
       "  <tbody>\n",
       "    <tr>\n",
       "      <th>0</th>\n",
       "      <td>None</td>\n",
       "      <td></td>\n",
       "      <td>None</td>\n",
       "      <td>None</td>\n",
       "      <td>None</td>\n",
       "      <td>None</td>\n",
       "      <td>None</td>\n",
       "      <td>None</td>\n",
       "      <td>None</td>\n",
       "      <td>None</td>\n",
       "      <td>None</td>\n",
       "      <td>smartphone</td>\n",
       "      <td>None</td>\n",
       "      <td>None</td>\n",
       "      <td>None</td>\n",
       "      <td>login</td>\n",
       "      <td>None</td>\n",
       "      <td>None</td>\n",
       "      <td></td>\n",
       "      <td>None</td>\n",
       "      <td>111.16.230.39</td>\n",
       "      <td>None</td>\n",
       "      <td>None</td>\n",
       "      <td>None</td>\n",
       "      <td>None</td>\n",
       "      <td>success</td>\n",
       "      <td>None</td>\n",
       "      <td>None</td>\n",
       "      <td>Android</td>\n",
       "      <td>8.1.0</td>\n",
       "      <td></td>\n",
       "      <td>None</td>\n",
       "      <td>None</td>\n",
       "      <td>None</td>\n",
       "      <td>None</td>\n",
       "      <td>None</td>\n",
       "      <td>None</td>\n",
       "      <td>None</td>\n",
       "      <td>None</td>\n",
       "      <td>None</td>\n",
       "      <td>NaN</td>\n",
       "      <td>None</td>\n",
       "      <td>None</td>\n",
       "      <td>None</td>\n",
       "      <td>None</td>\n",
       "      <td>None</td>\n",
       "      <td>2018-07-26 17:35:03</td>\n",
       "      <td>None</td>\n",
       "      <td>3e2ef34fb0cc0ada00eea28fe24dc98c</td>\n",
       "      <td>None</td>\n",
       "      <td>Mozilla/5.0 (Linux; U; Android 8.1.0; zh-cn; M...</td>\n",
       "      <td>73313023</td>\n",
       "      <td>qq_42804513</td>\n",
       "      <td>None</td>\n",
       "      <td>None</td>\n",
       "    </tr>\n",
       "    <tr>\n",
       "      <th>1</th>\n",
       "      <td>None</td>\n",
       "      <td>None</td>\n",
       "      <td>None</td>\n",
       "      <td>None</td>\n",
       "      <td>quartz从入门到实战</td>\n",
       "      <td>None</td>\n",
       "      <td></td>\n",
       "      <td>None</td>\n",
       "      <td>None</td>\n",
       "      <td>None</td>\n",
       "      <td>None</td>\n",
       "      <td>pc</td>\n",
       "      <td>None</td>\n",
       "      <td>None</td>\n",
       "      <td>None</td>\n",
       "      <td>create_blog</td>\n",
       "      <td>None</td>\n",
       "      <td>None</td>\n",
       "      <td></td>\n",
       "      <td>&amp;amp;lt;!-- 引...</td>\n",
       "      <td>222.64.95.232</td>\n",
       "      <td>None</td>\n",
       "      <td>None</td>\n",
       "      <td>None</td>\n",
       "      <td>None</td>\n",
       "      <td>None</td>\n",
       "      <td>None</td>\n",
       "      <td>None</td>\n",
       "      <td>Windows 7</td>\n",
       "      <td>NT 6.1</td>\n",
       "      <td>None</td>\n",
       "      <td>None</td>\n",
       "      <td>None</td>\n",
       "      <td>None</td>\n",
       "      <td>None</td>\n",
       "      <td>None</td>\n",
       "      <td>None</td>\n",
       "      <td>None</td>\n",
       "      <td>None</td>\n",
       "      <td>None</td>\n",
       "      <td>NaN</td>\n",
       "      <td>None</td>\n",
       "      <td>None</td>\n",
       "      <td>None</td>\n",
       "      <td>无状态</td>\n",
       "      <td>简介：Quartz是OpenSymphony开源组织在Job scheduling领域又一个...</td>\n",
       "      <td>2018-07-26 17:02:39</td>\n",
       "      <td>None</td>\n",
       "      <td>80ad4181658db8de97f6587efe74319a</td>\n",
       "      <td>None</td>\n",
       "      <td>Mozilla/5.0 (Windows NT 6.1; WOW64) AppleWebKi...</td>\n",
       "      <td>5549583</td>\n",
       "      <td>uniqueweimeijun</td>\n",
       "      <td>None</td>\n",
       "      <td>None</td>\n",
       "    </tr>\n",
       "    <tr>\n",
       "      <th>2</th>\n",
       "      <td>None</td>\n",
       "      <td></td>\n",
       "      <td>None</td>\n",
       "      <td>None</td>\n",
       "      <td>None</td>\n",
       "      <td>None</td>\n",
       "      <td>None</td>\n",
       "      <td>None</td>\n",
       "      <td>None</td>\n",
       "      <td>None</td>\n",
       "      <td>None</td>\n",
       "      <td>pc</td>\n",
       "      <td>None</td>\n",
       "      <td>None</td>\n",
       "      <td>None</td>\n",
       "      <td>login</td>\n",
       "      <td>None</td>\n",
       "      <td>None</td>\n",
       "      <td></td>\n",
       "      <td>None</td>\n",
       "      <td>123.125.37.227</td>\n",
       "      <td>None</td>\n",
       "      <td>None</td>\n",
       "      <td>None</td>\n",
       "      <td>None</td>\n",
       "      <td>success</td>\n",
       "      <td>None</td>\n",
       "      <td>None</td>\n",
       "      <td>Windows 7</td>\n",
       "      <td>NT 6.1</td>\n",
       "      <td></td>\n",
       "      <td>None</td>\n",
       "      <td>None</td>\n",
       "      <td>None</td>\n",
       "      <td>None</td>\n",
       "      <td>None</td>\n",
       "      <td>None</td>\n",
       "      <td>None</td>\n",
       "      <td>None</td>\n",
       "      <td>None</td>\n",
       "      <td>NaN</td>\n",
       "      <td>None</td>\n",
       "      <td>None</td>\n",
       "      <td>None</td>\n",
       "      <td>None</td>\n",
       "      <td>None</td>\n",
       "      <td>2018-07-26 17:03:13</td>\n",
       "      <td>None</td>\n",
       "      <td>1cf2a773c66994359728f9c06a1ff8b7</td>\n",
       "      <td>None</td>\n",
       "      <td>Mozilla/5.0 (Windows NT 6.1; WOW64) AppleWebKi...</td>\n",
       "      <td>16615754</td>\n",
       "      <td>yefengxuelang</td>\n",
       "      <td>None</td>\n",
       "      <td>None</td>\n",
       "    </tr>\n",
       "    <tr>\n",
       "      <th>3</th>\n",
       "      <td>None</td>\n",
       "      <td></td>\n",
       "      <td>None</td>\n",
       "      <td>None</td>\n",
       "      <td>None</td>\n",
       "      <td>None</td>\n",
       "      <td>None</td>\n",
       "      <td>None</td>\n",
       "      <td>None</td>\n",
       "      <td>None</td>\n",
       "      <td>None</td>\n",
       "      <td>pc</td>\n",
       "      <td>None</td>\n",
       "      <td>None</td>\n",
       "      <td>None</td>\n",
       "      <td>login</td>\n",
       "      <td>None</td>\n",
       "      <td>None</td>\n",
       "      <td></td>\n",
       "      <td>None</td>\n",
       "      <td>113.109.129.44</td>\n",
       "      <td>None</td>\n",
       "      <td>None</td>\n",
       "      <td>None</td>\n",
       "      <td>None</td>\n",
       "      <td>success</td>\n",
       "      <td>None</td>\n",
       "      <td>None</td>\n",
       "      <td>Windows 10</td>\n",
       "      <td>NT 10.0</td>\n",
       "      <td></td>\n",
       "      <td>None</td>\n",
       "      <td>None</td>\n",
       "      <td>None</td>\n",
       "      <td>None</td>\n",
       "      <td>None</td>\n",
       "      <td>None</td>\n",
       "      <td>None</td>\n",
       "      <td>None</td>\n",
       "      <td>None</td>\n",
       "      <td>NaN</td>\n",
       "      <td>None</td>\n",
       "      <td>None</td>\n",
       "      <td>None</td>\n",
       "      <td>None</td>\n",
       "      <td>None</td>\n",
       "      <td>2018-07-26 21:02:40</td>\n",
       "      <td>None</td>\n",
       "      <td>6d50664f561d700bc798ee63ae8a3e96</td>\n",
       "      <td>None</td>\n",
       "      <td>Mozilla/5.0 (Windows NT 10.0; WOW64) AppleWebK...</td>\n",
       "      <td>67354932</td>\n",
       "      <td>weixin_38184535</td>\n",
       "      <td>None</td>\n",
       "      <td>None</td>\n",
       "    </tr>\n",
       "    <tr>\n",
       "      <th>4</th>\n",
       "      <td>None</td>\n",
       "      <td>None</td>\n",
       "      <td>None</td>\n",
       "      <td>None</td>\n",
       "      <td>None</td>\n",
       "      <td>None</td>\n",
       "      <td>None</td>\n",
       "      <td>None</td>\n",
       "      <td>None</td>\n",
       "      <td>None</td>\n",
       "      <td>None</td>\n",
       "      <td>pc</td>\n",
       "      <td>None</td>\n",
       "      <td>None</td>\n",
       "      <td>None</td>\n",
       "      <td>download_resource</td>\n",
       "      <td>None</td>\n",
       "      <td>None</td>\n",
       "      <td></td>\n",
       "      <td>None</td>\n",
       "      <td>112.8.247.246</td>\n",
       "      <td>None</td>\n",
       "      <td>None</td>\n",
       "      <td>None</td>\n",
       "      <td>None</td>\n",
       "      <td>None</td>\n",
       "      <td>None</td>\n",
       "      <td>None</td>\n",
       "      <td>Windows 10</td>\n",
       "      <td>NT 10.0</td>\n",
       "      <td>None</td>\n",
       "      <td>None</td>\n",
       "      <td>None</td>\n",
       "      <td>None</td>\n",
       "      <td>None</td>\n",
       "      <td>None</td>\n",
       "      <td>其它</td>\n",
       "      <td>None</td>\n",
       "      <td>10373019</td>\n",
       "      <td>qq_32261191</td>\n",
       "      <td>2.0</td>\n",
       "      <td>防火墙系统实验</td>\n",
       "      <td>zip</td>\n",
       "      <td>VIP</td>\n",
       "      <td>None</td>\n",
       "      <td>None</td>\n",
       "      <td>2018-07-26 18:58:06</td>\n",
       "      <td>None</td>\n",
       "      <td>0b762d2ca4c225c662469bde0b98bb99</td>\n",
       "      <td>None</td>\n",
       "      <td>Mozilla/5.0 (Windows NT 10.0; Win64; x64; rv:6...</td>\n",
       "      <td>70310090</td>\n",
       "      <td>musanxu</td>\n",
       "      <td>None</td>\n",
       "      <td>None</td>\n",
       "    </tr>\n",
       "  </tbody>\n",
       "</table>\n",
       "</div>"
      ],
      "text/plain": [
       "  answers_count app_version bbs_title best_answer_time    blog_title  bury  \\\n",
       "0          None                  None             None          None  None   \n",
       "1          None        None      None             None  quartz从入门到实战  None   \n",
       "2          None                  None             None          None  None   \n",
       "3          None                  None             None          None  None   \n",
       "4          None        None      None             None          None  None   \n",
       "\n",
       "  category checkout_status checkout_user_id comments_count created_time  \\\n",
       "0     None            None             None           None         None   \n",
       "1                     None             None           None         None   \n",
       "2     None            None             None           None         None   \n",
       "3     None            None             None           None         None   \n",
       "4     None            None             None           None         None   \n",
       "\n",
       "  device_model  digg dup_resource_id email         event_type focus_count  \\\n",
       "0   smartphone  None            None  None              login        None   \n",
       "1           pc  None            None  None        create_blog        None   \n",
       "2           pc  None            None  None              login        None   \n",
       "3           pc  None            None  None              login        None   \n",
       "4           pc  None            None  None  download_resource        None   \n",
       "\n",
       "  forum_id gps                id              ip is_recommend is_tech  \\\n",
       "0     None                  None   111.16.230.39         None    None   \n",
       "1     None      &amp;lt;!-- 引...   222.64.95.232         None    None   \n",
       "2     None                  None  123.125.37.227         None    None   \n",
       "3     None                  None  113.109.129.44         None    None   \n",
       "4     None                  None   112.8.247.246         None    None   \n",
       "\n",
       "  last_edit_time last_post_id login_result mobile node-uuid     os_type  \\\n",
       "0           None         None      success   None      None     Android   \n",
       "1           None         None         None   None      None   Windows 7   \n",
       "2           None         None      success   None      None   Windows 7   \n",
       "3           None         None      success   None      None  Windows 10   \n",
       "4           None         None         None   None      None  Windows 10   \n",
       "\n",
       "  os_version phone_name point posts_count question_id question_title  \\\n",
       "0      8.1.0             None        None        None           None   \n",
       "1     NT 6.1       None  None        None        None           None   \n",
       "2     NT 6.1             None        None        None           None   \n",
       "3    NT 10.0             None        None        None           None   \n",
       "4    NT 10.0       None  None        None        None           None   \n",
       "\n",
       "  register_type resource_category resource_duplicate_status resource_id  \\\n",
       "0          None              None                      None        None   \n",
       "1          None              None                      None        None   \n",
       "2          None              None                      None        None   \n",
       "3          None              None                      None        None   \n",
       "4          None                其它                      None    10373019   \n",
       "\n",
       "  resource_owner  resource_score resource_title resource_type  \\\n",
       "0           None             NaN           None          None   \n",
       "1           None             NaN           None          None   \n",
       "2           None             NaN           None          None   \n",
       "3           None             NaN           None          None   \n",
       "4    qq_32261191             2.0        防火墙系统实验           zip   \n",
       "\n",
       "  resource_user_type status  \\\n",
       "0               None   None   \n",
       "1               None    无状态   \n",
       "2               None   None   \n",
       "3               None   None   \n",
       "4                VIP   None   \n",
       "\n",
       "                                             summary           time_stamp  \\\n",
       "0                                               None  2018-07-26 17:35:03   \n",
       "1  简介：Quartz是OpenSymphony开源组织在Job scheduling领域又一个...  2018-07-26 17:02:39   \n",
       "2                                               None  2018-07-26 17:03:13   \n",
       "3                                               None  2018-07-26 21:02:40   \n",
       "4                                               None  2018-07-26 18:58:06   \n",
       "\n",
       "  topic_detail_id                               uid updated_time  \\\n",
       "0            None  3e2ef34fb0cc0ada00eea28fe24dc98c         None   \n",
       "1            None  80ad4181658db8de97f6587efe74319a         None   \n",
       "2            None  1cf2a773c66994359728f9c06a1ff8b7         None   \n",
       "3            None  6d50664f561d700bc798ee63ae8a3e96         None   \n",
       "4            None  0b762d2ca4c225c662469bde0b98bb99         None   \n",
       "\n",
       "                                          user_agent   user_id  \\\n",
       "0  Mozilla/5.0 (Linux; U; Android 8.1.0; zh-cn; M...  73313023   \n",
       "1  Mozilla/5.0 (Windows NT 6.1; WOW64) AppleWebKi...   5549583   \n",
       "2  Mozilla/5.0 (Windows NT 6.1; WOW64) AppleWebKi...  16615754   \n",
       "3  Mozilla/5.0 (Windows NT 10.0; WOW64) AppleWebK...  67354932   \n",
       "4  Mozilla/5.0 (Windows NT 10.0; Win64; x64; rv:6...  70310090   \n",
       "\n",
       "         user_name view_count visits_count  \n",
       "0      qq_42804513       None         None  \n",
       "1  uniqueweimeijun       None         None  \n",
       "2    yefengxuelang       None         None  \n",
       "3  weixin_38184535       None         None  \n",
       "4          musanxu       None         None  "
      ]
     },
     "execution_count": 15,
     "metadata": {},
     "output_type": "execute_result"
    }
   ],
   "source": [
    "# 取一部分数据观察一下\n",
    "df.limit(5).toPandas()"
   ]
  },
  {
   "cell_type": "code",
   "execution_count": 4,
   "metadata": {
    "scrolled": true
   },
   "outputs": [
    {
     "data": {
      "text/plain": [
       "['answers_count',\n",
       " 'app_version',\n",
       " 'bbs_title',\n",
       " 'best_answer_time',\n",
       " 'blog_title',\n",
       " 'bury',\n",
       " 'category',\n",
       " 'checkout_status',\n",
       " 'checkout_user_id',\n",
       " 'comments_count',\n",
       " 'created_time',\n",
       " 'device_model',\n",
       " 'digg',\n",
       " 'dup_resource_id',\n",
       " 'email',\n",
       " 'event_type',\n",
       " 'focus_count',\n",
       " 'forum_id',\n",
       " 'gps',\n",
       " 'id',\n",
       " 'ip',\n",
       " 'is_recommend',\n",
       " 'is_tech',\n",
       " 'last_edit_time',\n",
       " 'last_post_id',\n",
       " 'login_result',\n",
       " 'mobile',\n",
       " 'node-uuid',\n",
       " 'os_type',\n",
       " 'os_version',\n",
       " 'phone_name',\n",
       " 'point',\n",
       " 'posts_count',\n",
       " 'question_id',\n",
       " 'question_title',\n",
       " 'register_type',\n",
       " 'resource_category',\n",
       " 'resource_duplicate_status',\n",
       " 'resource_id',\n",
       " 'resource_owner',\n",
       " 'resource_score',\n",
       " 'resource_title',\n",
       " 'resource_type',\n",
       " 'resource_user_type',\n",
       " 'status',\n",
       " 'summary',\n",
       " 'time_stamp',\n",
       " 'topic_detail_id',\n",
       " 'uid',\n",
       " 'updated_time',\n",
       " 'user_agent',\n",
       " 'user_id',\n",
       " 'user_name',\n",
       " 'view_count',\n",
       " 'visits_count']"
      ]
     },
     "execution_count": 4,
     "metadata": {},
     "output_type": "execute_result"
    }
   ],
   "source": [
    "# 查看df的字段\n",
    "df.columns"
   ]
  },
  {
   "cell_type": "code",
   "execution_count": 5,
   "metadata": {
    "scrolled": true
   },
   "outputs": [
    {
     "data": {
      "text/plain": [
       "[('answers_count', 'string'),\n",
       " ('app_version', 'string'),\n",
       " ('bbs_title', 'string'),\n",
       " ('best_answer_time', 'string'),\n",
       " ('blog_title', 'string'),\n",
       " ('bury', 'string'),\n",
       " ('category', 'string'),\n",
       " ('checkout_status', 'string'),\n",
       " ('checkout_user_id', 'string'),\n",
       " ('comments_count', 'string'),\n",
       " ('created_time', 'string'),\n",
       " ('device_model', 'string'),\n",
       " ('digg', 'string'),\n",
       " ('dup_resource_id', 'string'),\n",
       " ('email', 'string'),\n",
       " ('event_type', 'string'),\n",
       " ('focus_count', 'string'),\n",
       " ('forum_id', 'string'),\n",
       " ('gps', 'string'),\n",
       " ('id', 'string'),\n",
       " ('ip', 'string'),\n",
       " ('is_recommend', 'string'),\n",
       " ('is_tech', 'string'),\n",
       " ('last_edit_time', 'string'),\n",
       " ('last_post_id', 'string'),\n",
       " ('login_result', 'string'),\n",
       " ('mobile', 'string'),\n",
       " ('node-uuid', 'string'),\n",
       " ('os_type', 'string'),\n",
       " ('os_version', 'string'),\n",
       " ('phone_name', 'string'),\n",
       " ('point', 'int'),\n",
       " ('posts_count', 'string'),\n",
       " ('question_id', 'string'),\n",
       " ('question_title', 'string'),\n",
       " ('register_type', 'string'),\n",
       " ('resource_category', 'string'),\n",
       " ('resource_duplicate_status', 'string'),\n",
       " ('resource_id', 'string'),\n",
       " ('resource_owner', 'string'),\n",
       " ('resource_score', 'double'),\n",
       " ('resource_title', 'string'),\n",
       " ('resource_type', 'string'),\n",
       " ('resource_user_type', 'string'),\n",
       " ('status', 'string'),\n",
       " ('summary', 'string'),\n",
       " ('time_stamp', 'string'),\n",
       " ('topic_detail_id', 'string'),\n",
       " ('uid', 'string'),\n",
       " ('updated_time', 'string'),\n",
       " ('user_agent', 'string'),\n",
       " ('user_id', 'string'),\n",
       " ('user_name', 'string'),\n",
       " ('view_count', 'string'),\n",
       " ('visits_count', 'string')]"
      ]
     },
     "execution_count": 5,
     "metadata": {},
     "output_type": "execute_result"
    }
   ],
   "source": [
    "# 查看 df的字段格式\n",
    "df.dtypes"
   ]
  },
  {
   "cell_type": "markdown",
   "metadata": {
    "collapsed": true
   },
   "source": [
    "### rdd 转 df"
   ]
  },
  {
   "cell_type": "code",
   "execution_count": 10,
   "metadata": {},
   "outputs": [
    {
     "data": {
      "text/plain": [
       "[['a', 1.0], ['b', 1.0]]"
      ]
     },
     "execution_count": 10,
     "metadata": {},
     "output_type": "execute_result"
    }
   ],
   "source": [
    "rdd = sc.parallelize([['a', 1.0], ['b', 1.0], ['c', 1.0], ['d', 5.5]])\n",
    "rdd.take(2)"
   ]
  },
  {
   "cell_type": "code",
   "execution_count": 11,
   "metadata": {},
   "outputs": [
    {
     "name": "stdout",
     "output_type": "stream",
     "text": [
      "+---+-----+\n",
      "| id|value|\n",
      "+---+-----+\n",
      "|  a|  1.0|\n",
      "|  b|  1.0|\n",
      "|  c|  1.0|\n",
      "|  d|  5.5|\n",
      "+---+-----+\n",
      "\n"
     ]
    }
   ],
   "source": [
    "schema = StructType([\n",
    "    StructField(name=\"id\", dataType=StringType(), nullable=True),\n",
    "    StructField(name=\"value\", dataType=DoubleType(), nullable=True)\n",
    "])\n",
    "\n",
    "df1 = spark.createDataFrame(rdd, schema=schema)\n",
    "df1.show(5)"
   ]
  },
  {
   "cell_type": "markdown",
   "metadata": {},
   "source": [
    "### persist"
   ]
  },
  {
   "cell_type": "code",
   "execution_count": null,
   "metadata": {
    "collapsed": true
   },
   "outputs": [],
   "source": [
    "### persist：将变量保存在spark内存中，再次使用该变量时会直接从内存中获取，效率很高\n",
    "### 注意：如果变量很大，可能导致内存不足，persist会将数据保存到磁盘上\n",
    "df.persist()"
   ]
  },
  {
   "cell_type": "markdown",
   "metadata": {},
   "source": [
    "### unpersist"
   ]
  },
  {
   "cell_type": "code",
   "execution_count": null,
   "metadata": {
    "collapsed": true
   },
   "outputs": [],
   "source": [
    "### 从内存中去除这个df\n",
    "df.unpersist()"
   ]
  },
  {
   "cell_type": "markdown",
   "metadata": {},
   "source": [
    "### filter"
   ]
  },
  {
   "cell_type": "code",
   "execution_count": 16,
   "metadata": {},
   "outputs": [
    {
     "data": {
      "text/plain": [
       "2305734"
      ]
     },
     "execution_count": 16,
     "metadata": {},
     "output_type": "execute_result"
    }
   ],
   "source": [
    "# 过滤出所有登录事件\n",
    "df.filter(functions.col(\"event_type\")==\"login\").count()"
   ]
  },
  {
   "cell_type": "code",
   "execution_count": 18,
   "metadata": {},
   "outputs": [
    {
     "data": {
      "text/plain": [
       "3599144"
      ]
     },
     "execution_count": 18,
     "metadata": {},
     "output_type": "execute_result"
    }
   ],
   "source": [
    "# 过滤出所有os_type包含 Windows 关键词的事件\n",
    "df.filter(functions.col(\"os_type\").contains(\"Windows\")).count()"
   ]
  },
  {
   "cell_type": "code",
   "execution_count": 20,
   "metadata": {},
   "outputs": [
    {
     "data": {
      "text/plain": [
       "1521702"
      ]
     },
     "execution_count": 20,
     "metadata": {},
     "output_type": "execute_result"
    }
   ],
   "source": [
    "# 通过udf函数来过滤\n",
    "def udf_(keyword):\n",
    "    def f(event_type, login_result, os_type):\n",
    "        if event_type==\"login\" and login_result==\"success\" and keyword in os_type:\n",
    "            return True\n",
    "        else:\n",
    "            return False\n",
    "    return functions.udf(f, BooleanType())\n",
    "\n",
    "df.filter(udf_(\"Windows\")(\"event_type\", \"login_result\", \"os_type\")).count()\n",
    "        "
   ]
  },
  {
   "cell_type": "markdown",
   "metadata": {},
   "source": [
    "### select, drop_duplicates "
   ]
  },
  {
   "cell_type": "code",
   "execution_count": 21,
   "metadata": {},
   "outputs": [
    {
     "name": "stdout",
     "output_type": "stream",
     "text": [
      "+-----------------+\n",
      "|       event_type|\n",
      "+-----------------+\n",
      "|  answer_question|\n",
      "|             null|\n",
      "|            login|\n",
      "|download_resource|\n",
      "|      create_blog|\n",
      "|  create_question|\n",
      "|     create_topic|\n",
      "|  upload_resource|\n",
      "|         register|\n",
      "+-----------------+\n",
      "\n"
     ]
    }
   ],
   "source": [
    "df.select([\"event_type\"]).drop_duplicates().show(10)"
   ]
  },
  {
   "cell_type": "code",
   "execution_count": 22,
   "metadata": {},
   "outputs": [
    {
     "name": "stdout",
     "output_type": "stream",
     "text": [
      "+-----------------+----------+\n",
      "|       event_type|   os_type|\n",
      "+-----------------+----------+\n",
      "|            login|   Android|\n",
      "|      create_blog| Windows 7|\n",
      "|            login| Windows 7|\n",
      "|            login|Windows 10|\n",
      "|download_resource|Windows 10|\n",
      "+-----------------+----------+\n",
      "only showing top 5 rows\n",
      "\n"
     ]
    }
   ],
   "source": [
    "df.select([\"event_type\", \"os_type\"]).show(5)"
   ]
  },
  {
   "cell_type": "markdown",
   "metadata": {},
   "source": [
    "### drop"
   ]
  },
  {
   "cell_type": "code",
   "execution_count": null,
   "metadata": {
    "collapsed": true
   },
   "outputs": [],
   "source": [
    "df.drop([\"answers_count\", \"app_version\"]).limit(5).toPandas()"
   ]
  },
  {
   "cell_type": "markdown",
   "metadata": {},
   "source": [
    "### fillna"
   ]
  },
  {
   "cell_type": "code",
   "execution_count": 23,
   "metadata": {},
   "outputs": [
    {
     "data": {
      "text/html": [
       "<div>\n",
       "<style scoped>\n",
       "    .dataframe tbody tr th:only-of-type {\n",
       "        vertical-align: middle;\n",
       "    }\n",
       "\n",
       "    .dataframe tbody tr th {\n",
       "        vertical-align: top;\n",
       "    }\n",
       "\n",
       "    .dataframe thead th {\n",
       "        text-align: right;\n",
       "    }\n",
       "</style>\n",
       "<table border=\"1\" class=\"dataframe\">\n",
       "  <thead>\n",
       "    <tr style=\"text-align: right;\">\n",
       "      <th></th>\n",
       "      <th>answers_count</th>\n",
       "      <th>app_version</th>\n",
       "      <th>bbs_title</th>\n",
       "      <th>best_answer_time</th>\n",
       "      <th>blog_title</th>\n",
       "      <th>bury</th>\n",
       "      <th>category</th>\n",
       "      <th>checkout_status</th>\n",
       "      <th>checkout_user_id</th>\n",
       "      <th>comments_count</th>\n",
       "      <th>created_time</th>\n",
       "      <th>device_model</th>\n",
       "      <th>digg</th>\n",
       "      <th>dup_resource_id</th>\n",
       "      <th>email</th>\n",
       "      <th>event_type</th>\n",
       "      <th>focus_count</th>\n",
       "      <th>forum_id</th>\n",
       "      <th>gps</th>\n",
       "      <th>id</th>\n",
       "      <th>ip</th>\n",
       "      <th>is_recommend</th>\n",
       "      <th>is_tech</th>\n",
       "      <th>last_edit_time</th>\n",
       "      <th>last_post_id</th>\n",
       "      <th>login_result</th>\n",
       "      <th>mobile</th>\n",
       "      <th>node-uuid</th>\n",
       "      <th>os_type</th>\n",
       "      <th>os_version</th>\n",
       "      <th>phone_name</th>\n",
       "      <th>point</th>\n",
       "      <th>posts_count</th>\n",
       "      <th>question_id</th>\n",
       "      <th>question_title</th>\n",
       "      <th>register_type</th>\n",
       "      <th>resource_category</th>\n",
       "      <th>resource_duplicate_status</th>\n",
       "      <th>resource_id</th>\n",
       "      <th>resource_owner</th>\n",
       "      <th>resource_score</th>\n",
       "      <th>resource_title</th>\n",
       "      <th>resource_type</th>\n",
       "      <th>resource_user_type</th>\n",
       "      <th>status</th>\n",
       "      <th>summary</th>\n",
       "      <th>time_stamp</th>\n",
       "      <th>topic_detail_id</th>\n",
       "      <th>uid</th>\n",
       "      <th>updated_time</th>\n",
       "      <th>user_agent</th>\n",
       "      <th>user_id</th>\n",
       "      <th>user_name</th>\n",
       "      <th>view_count</th>\n",
       "      <th>visits_count</th>\n",
       "    </tr>\n",
       "  </thead>\n",
       "  <tbody>\n",
       "    <tr>\n",
       "      <th>0</th>\n",
       "      <td></td>\n",
       "      <td></td>\n",
       "      <td></td>\n",
       "      <td></td>\n",
       "      <td></td>\n",
       "      <td></td>\n",
       "      <td></td>\n",
       "      <td></td>\n",
       "      <td></td>\n",
       "      <td></td>\n",
       "      <td></td>\n",
       "      <td>smartphone</td>\n",
       "      <td></td>\n",
       "      <td></td>\n",
       "      <td></td>\n",
       "      <td>login</td>\n",
       "      <td></td>\n",
       "      <td></td>\n",
       "      <td></td>\n",
       "      <td></td>\n",
       "      <td>111.16.230.39</td>\n",
       "      <td></td>\n",
       "      <td></td>\n",
       "      <td></td>\n",
       "      <td></td>\n",
       "      <td>success</td>\n",
       "      <td></td>\n",
       "      <td></td>\n",
       "      <td>Android</td>\n",
       "      <td>8.1.0</td>\n",
       "      <td></td>\n",
       "      <td>None</td>\n",
       "      <td></td>\n",
       "      <td></td>\n",
       "      <td></td>\n",
       "      <td></td>\n",
       "      <td></td>\n",
       "      <td></td>\n",
       "      <td></td>\n",
       "      <td></td>\n",
       "      <td>NaN</td>\n",
       "      <td></td>\n",
       "      <td></td>\n",
       "      <td></td>\n",
       "      <td></td>\n",
       "      <td></td>\n",
       "      <td>2018-07-26 17:35:03</td>\n",
       "      <td></td>\n",
       "      <td>3e2ef34fb0cc0ada00eea28fe24dc98c</td>\n",
       "      <td></td>\n",
       "      <td>Mozilla/5.0 (Linux; U; Android 8.1.0; zh-cn; M...</td>\n",
       "      <td>73313023</td>\n",
       "      <td>qq_42804513</td>\n",
       "      <td></td>\n",
       "      <td></td>\n",
       "    </tr>\n",
       "    <tr>\n",
       "      <th>1</th>\n",
       "      <td></td>\n",
       "      <td></td>\n",
       "      <td></td>\n",
       "      <td></td>\n",
       "      <td>quartz从入门到实战</td>\n",
       "      <td></td>\n",
       "      <td></td>\n",
       "      <td></td>\n",
       "      <td></td>\n",
       "      <td></td>\n",
       "      <td></td>\n",
       "      <td>pc</td>\n",
       "      <td></td>\n",
       "      <td></td>\n",
       "      <td></td>\n",
       "      <td>create_blog</td>\n",
       "      <td></td>\n",
       "      <td></td>\n",
       "      <td></td>\n",
       "      <td>&amp;amp;lt;!-- 引...</td>\n",
       "      <td>222.64.95.232</td>\n",
       "      <td></td>\n",
       "      <td></td>\n",
       "      <td></td>\n",
       "      <td></td>\n",
       "      <td></td>\n",
       "      <td></td>\n",
       "      <td></td>\n",
       "      <td>Windows 7</td>\n",
       "      <td>NT 6.1</td>\n",
       "      <td></td>\n",
       "      <td>None</td>\n",
       "      <td></td>\n",
       "      <td></td>\n",
       "      <td></td>\n",
       "      <td></td>\n",
       "      <td></td>\n",
       "      <td></td>\n",
       "      <td></td>\n",
       "      <td></td>\n",
       "      <td>NaN</td>\n",
       "      <td></td>\n",
       "      <td></td>\n",
       "      <td></td>\n",
       "      <td>无状态</td>\n",
       "      <td>简介：Quartz是OpenSymphony开源组织在Job scheduling领域又一个...</td>\n",
       "      <td>2018-07-26 17:02:39</td>\n",
       "      <td></td>\n",
       "      <td>80ad4181658db8de97f6587efe74319a</td>\n",
       "      <td></td>\n",
       "      <td>Mozilla/5.0 (Windows NT 6.1; WOW64) AppleWebKi...</td>\n",
       "      <td>5549583</td>\n",
       "      <td>uniqueweimeijun</td>\n",
       "      <td></td>\n",
       "      <td></td>\n",
       "    </tr>\n",
       "    <tr>\n",
       "      <th>2</th>\n",
       "      <td></td>\n",
       "      <td></td>\n",
       "      <td></td>\n",
       "      <td></td>\n",
       "      <td></td>\n",
       "      <td></td>\n",
       "      <td></td>\n",
       "      <td></td>\n",
       "      <td></td>\n",
       "      <td></td>\n",
       "      <td></td>\n",
       "      <td>pc</td>\n",
       "      <td></td>\n",
       "      <td></td>\n",
       "      <td></td>\n",
       "      <td>login</td>\n",
       "      <td></td>\n",
       "      <td></td>\n",
       "      <td></td>\n",
       "      <td></td>\n",
       "      <td>123.125.37.227</td>\n",
       "      <td></td>\n",
       "      <td></td>\n",
       "      <td></td>\n",
       "      <td></td>\n",
       "      <td>success</td>\n",
       "      <td></td>\n",
       "      <td></td>\n",
       "      <td>Windows 7</td>\n",
       "      <td>NT 6.1</td>\n",
       "      <td></td>\n",
       "      <td>None</td>\n",
       "      <td></td>\n",
       "      <td></td>\n",
       "      <td></td>\n",
       "      <td></td>\n",
       "      <td></td>\n",
       "      <td></td>\n",
       "      <td></td>\n",
       "      <td></td>\n",
       "      <td>NaN</td>\n",
       "      <td></td>\n",
       "      <td></td>\n",
       "      <td></td>\n",
       "      <td></td>\n",
       "      <td></td>\n",
       "      <td>2018-07-26 17:03:13</td>\n",
       "      <td></td>\n",
       "      <td>1cf2a773c66994359728f9c06a1ff8b7</td>\n",
       "      <td></td>\n",
       "      <td>Mozilla/5.0 (Windows NT 6.1; WOW64) AppleWebKi...</td>\n",
       "      <td>16615754</td>\n",
       "      <td>yefengxuelang</td>\n",
       "      <td></td>\n",
       "      <td></td>\n",
       "    </tr>\n",
       "    <tr>\n",
       "      <th>3</th>\n",
       "      <td></td>\n",
       "      <td></td>\n",
       "      <td></td>\n",
       "      <td></td>\n",
       "      <td></td>\n",
       "      <td></td>\n",
       "      <td></td>\n",
       "      <td></td>\n",
       "      <td></td>\n",
       "      <td></td>\n",
       "      <td></td>\n",
       "      <td>pc</td>\n",
       "      <td></td>\n",
       "      <td></td>\n",
       "      <td></td>\n",
       "      <td>login</td>\n",
       "      <td></td>\n",
       "      <td></td>\n",
       "      <td></td>\n",
       "      <td></td>\n",
       "      <td>113.109.129.44</td>\n",
       "      <td></td>\n",
       "      <td></td>\n",
       "      <td></td>\n",
       "      <td></td>\n",
       "      <td>success</td>\n",
       "      <td></td>\n",
       "      <td></td>\n",
       "      <td>Windows 10</td>\n",
       "      <td>NT 10.0</td>\n",
       "      <td></td>\n",
       "      <td>None</td>\n",
       "      <td></td>\n",
       "      <td></td>\n",
       "      <td></td>\n",
       "      <td></td>\n",
       "      <td></td>\n",
       "      <td></td>\n",
       "      <td></td>\n",
       "      <td></td>\n",
       "      <td>NaN</td>\n",
       "      <td></td>\n",
       "      <td></td>\n",
       "      <td></td>\n",
       "      <td></td>\n",
       "      <td></td>\n",
       "      <td>2018-07-26 21:02:40</td>\n",
       "      <td></td>\n",
       "      <td>6d50664f561d700bc798ee63ae8a3e96</td>\n",
       "      <td></td>\n",
       "      <td>Mozilla/5.0 (Windows NT 10.0; WOW64) AppleWebK...</td>\n",
       "      <td>67354932</td>\n",
       "      <td>weixin_38184535</td>\n",
       "      <td></td>\n",
       "      <td></td>\n",
       "    </tr>\n",
       "    <tr>\n",
       "      <th>4</th>\n",
       "      <td></td>\n",
       "      <td></td>\n",
       "      <td></td>\n",
       "      <td></td>\n",
       "      <td></td>\n",
       "      <td></td>\n",
       "      <td></td>\n",
       "      <td></td>\n",
       "      <td></td>\n",
       "      <td></td>\n",
       "      <td></td>\n",
       "      <td>pc</td>\n",
       "      <td></td>\n",
       "      <td></td>\n",
       "      <td></td>\n",
       "      <td>download_resource</td>\n",
       "      <td></td>\n",
       "      <td></td>\n",
       "      <td></td>\n",
       "      <td></td>\n",
       "      <td>112.8.247.246</td>\n",
       "      <td></td>\n",
       "      <td></td>\n",
       "      <td></td>\n",
       "      <td></td>\n",
       "      <td></td>\n",
       "      <td></td>\n",
       "      <td></td>\n",
       "      <td>Windows 10</td>\n",
       "      <td>NT 10.0</td>\n",
       "      <td></td>\n",
       "      <td>None</td>\n",
       "      <td></td>\n",
       "      <td></td>\n",
       "      <td></td>\n",
       "      <td></td>\n",
       "      <td>其它</td>\n",
       "      <td></td>\n",
       "      <td>10373019</td>\n",
       "      <td>qq_32261191</td>\n",
       "      <td>2.0</td>\n",
       "      <td>防火墙系统实验</td>\n",
       "      <td>zip</td>\n",
       "      <td>VIP</td>\n",
       "      <td></td>\n",
       "      <td></td>\n",
       "      <td>2018-07-26 18:58:06</td>\n",
       "      <td></td>\n",
       "      <td>0b762d2ca4c225c662469bde0b98bb99</td>\n",
       "      <td></td>\n",
       "      <td>Mozilla/5.0 (Windows NT 10.0; Win64; x64; rv:6...</td>\n",
       "      <td>70310090</td>\n",
       "      <td>musanxu</td>\n",
       "      <td></td>\n",
       "      <td></td>\n",
       "    </tr>\n",
       "  </tbody>\n",
       "</table>\n",
       "</div>"
      ],
      "text/plain": [
       "  answers_count app_version bbs_title best_answer_time    blog_title bury  \\\n",
       "0                                                                           \n",
       "1                                                       quartz从入门到实战        \n",
       "2                                                                           \n",
       "3                                                                           \n",
       "4                                                                           \n",
       "\n",
       "  category checkout_status checkout_user_id comments_count created_time  \\\n",
       "0                                                                         \n",
       "1                                                                         \n",
       "2                                                                         \n",
       "3                                                                         \n",
       "4                                                                         \n",
       "\n",
       "  device_model digg dup_resource_id email         event_type focus_count  \\\n",
       "0   smartphone                                         login               \n",
       "1           pc                                   create_blog               \n",
       "2           pc                                         login               \n",
       "3           pc                                         login               \n",
       "4           pc                             download_resource               \n",
       "\n",
       "  forum_id gps                id              ip is_recommend is_tech  \\\n",
       "0                                  111.16.230.39                        \n",
       "1               &amp;lt;!-- 引...   222.64.95.232                        \n",
       "2                                 123.125.37.227                        \n",
       "3                                 113.109.129.44                        \n",
       "4                                  112.8.247.246                        \n",
       "\n",
       "  last_edit_time last_post_id login_result mobile node-uuid     os_type  \\\n",
       "0                                  success                      Android   \n",
       "1                                                             Windows 7   \n",
       "2                                  success                    Windows 7   \n",
       "3                                  success                   Windows 10   \n",
       "4                                                            Windows 10   \n",
       "\n",
       "  os_version phone_name point posts_count question_id question_title  \\\n",
       "0      8.1.0             None                                          \n",
       "1     NT 6.1             None                                          \n",
       "2     NT 6.1             None                                          \n",
       "3    NT 10.0             None                                          \n",
       "4    NT 10.0             None                                          \n",
       "\n",
       "  register_type resource_category resource_duplicate_status resource_id  \\\n",
       "0                                                                         \n",
       "1                                                                         \n",
       "2                                                                         \n",
       "3                                                                         \n",
       "4                              其它                              10373019   \n",
       "\n",
       "  resource_owner  resource_score resource_title resource_type  \\\n",
       "0                            NaN                                \n",
       "1                            NaN                                \n",
       "2                            NaN                                \n",
       "3                            NaN                                \n",
       "4    qq_32261191             2.0        防火墙系统实验           zip   \n",
       "\n",
       "  resource_user_type status  \\\n",
       "0                             \n",
       "1                       无状态   \n",
       "2                             \n",
       "3                             \n",
       "4                VIP          \n",
       "\n",
       "                                             summary           time_stamp  \\\n",
       "0                                                     2018-07-26 17:35:03   \n",
       "1  简介：Quartz是OpenSymphony开源组织在Job scheduling领域又一个...  2018-07-26 17:02:39   \n",
       "2                                                     2018-07-26 17:03:13   \n",
       "3                                                     2018-07-26 21:02:40   \n",
       "4                                                     2018-07-26 18:58:06   \n",
       "\n",
       "  topic_detail_id                               uid updated_time  \\\n",
       "0                  3e2ef34fb0cc0ada00eea28fe24dc98c                \n",
       "1                  80ad4181658db8de97f6587efe74319a                \n",
       "2                  1cf2a773c66994359728f9c06a1ff8b7                \n",
       "3                  6d50664f561d700bc798ee63ae8a3e96                \n",
       "4                  0b762d2ca4c225c662469bde0b98bb99                \n",
       "\n",
       "                                          user_agent   user_id  \\\n",
       "0  Mozilla/5.0 (Linux; U; Android 8.1.0; zh-cn; M...  73313023   \n",
       "1  Mozilla/5.0 (Windows NT 6.1; WOW64) AppleWebKi...   5549583   \n",
       "2  Mozilla/5.0 (Windows NT 6.1; WOW64) AppleWebKi...  16615754   \n",
       "3  Mozilla/5.0 (Windows NT 10.0; WOW64) AppleWebK...  67354932   \n",
       "4  Mozilla/5.0 (Windows NT 10.0; Win64; x64; rv:6...  70310090   \n",
       "\n",
       "         user_name view_count visits_count  \n",
       "0      qq_42804513                          \n",
       "1  uniqueweimeijun                          \n",
       "2    yefengxuelang                          \n",
       "3  weixin_38184535                          \n",
       "4          musanxu                          "
      ]
     },
     "execution_count": 23,
     "metadata": {},
     "output_type": "execute_result"
    }
   ],
   "source": [
    "df.fillna(\"\").limit(5).toPandas()"
   ]
  },
  {
   "cell_type": "markdown",
   "metadata": {},
   "source": [
    "### withColumn  withColumnRenamed"
   ]
  },
  {
   "cell_type": "code",
   "execution_count": 35,
   "metadata": {},
   "outputs": [
    {
     "name": "stdout",
     "output_type": "stream",
     "text": [
      "+---+---+\n",
      "|  A|  B|\n",
      "+---+---+\n",
      "|  a|  1|\n",
      "|  b|  2|\n",
      "|  c|  3|\n",
      "|  d|  4|\n",
      "+---+---+\n",
      "\n"
     ]
    }
   ],
   "source": [
    "df1 = spark.createDataFrame([\n",
    "    ['a', 1],\n",
    "    ['b', 2],\n",
    "    ['c', 3],\n",
    "    ['d', 4],\n",
    "], schema=[\"A\", \"B\"])\n",
    "df1.show(5)"
   ]
  },
  {
   "cell_type": "code",
   "execution_count": 36,
   "metadata": {},
   "outputs": [
    {
     "data": {
      "text/plain": [
       "[('A', 'string'), ('B', 'bigint')]"
      ]
     },
     "execution_count": 36,
     "metadata": {},
     "output_type": "execute_result"
    }
   ],
   "source": [
    "df1.dtypes"
   ]
  },
  {
   "cell_type": "code",
   "execution_count": 39,
   "metadata": {},
   "outputs": [
    {
     "name": "stdout",
     "output_type": "stream",
     "text": [
      "+---+---+\n",
      "|  A|  D|\n",
      "+---+---+\n",
      "|  a|  1|\n",
      "|  b|  2|\n",
      "|  c|  3|\n",
      "|  d|  4|\n",
      "+---+---+\n",
      "\n"
     ]
    }
   ],
   "source": [
    "# 更改列名\n",
    "df2 = df1.withColumnRenamed(\"B\", \"D\")\n",
    "df2.show(5)"
   ]
  },
  {
   "cell_type": "code",
   "execution_count": 37,
   "metadata": {},
   "outputs": [
    {
     "name": "stdout",
     "output_type": "stream",
     "text": [
      "+---+---+---+\n",
      "|  A|  B|  C|\n",
      "+---+---+---+\n",
      "|  a|  1|  5|\n",
      "|  b|  2|  5|\n",
      "|  c|  3|  5|\n",
      "|  d|  4|  5|\n",
      "+---+---+---+\n",
      "\n"
     ]
    }
   ],
   "source": [
    "# 新增一列常数\n",
    "df2 = df1.withColumn(\"C\", functions.lit(5))\n",
    "df2.show(5)"
   ]
  },
  {
   "cell_type": "code",
   "execution_count": 38,
   "metadata": {},
   "outputs": [
    {
     "name": "stdout",
     "output_type": "stream",
     "text": [
      "+---+---+---+\n",
      "|  A|  B|  C|\n",
      "+---+---+---+\n",
      "|  a|  1|  1|\n",
      "|  b|  2|  4|\n",
      "|  c|  3|  9|\n",
      "|  d|  4| 16|\n",
      "+---+---+---+\n",
      "\n"
     ]
    }
   ],
   "source": [
    "# 用udf新增一列\n",
    "def udf_():\n",
    "    def f(x):\n",
    "        return x**2\n",
    "    return functions.udf(f, IntegerType())\n",
    "        \n",
    "        \n",
    "df2 = df1.withColumn(\"C\", udf_()(\"B\"))\n",
    "df2.show(5)"
   ]
  },
  {
   "cell_type": "code",
   "execution_count": 40,
   "metadata": {},
   "outputs": [
    {
     "name": "stdout",
     "output_type": "stream",
     "text": [
      "+---+---+\n",
      "|  A|  B|\n",
      "+---+---+\n",
      "|  a|1.0|\n",
      "|  b|2.0|\n",
      "|  c|3.0|\n",
      "|  d|4.0|\n",
      "+---+---+\n",
      "\n"
     ]
    }
   ],
   "source": [
    "# 修改字段类型\n",
    "df2 = df1.withColumn(\"B\", functions.col(\"B\").astype(DoubleType()))\n",
    "df2.show(5)"
   ]
  },
  {
   "cell_type": "markdown",
   "metadata": {},
   "source": [
    "### join"
   ]
  },
  {
   "cell_type": "code",
   "execution_count": 27,
   "metadata": {},
   "outputs": [
    {
     "name": "stdout",
     "output_type": "stream",
     "text": [
      "+---+---+\n",
      "|  A|  B|\n",
      "+---+---+\n",
      "|  a|  1|\n",
      "|  b|  1|\n",
      "|  c|  1|\n",
      "|  d|  1|\n",
      "+---+---+\n",
      "\n"
     ]
    }
   ],
   "source": [
    "df1 = spark.createDataFrame([\n",
    "    ['a', 1],\n",
    "    ['b', 1],\n",
    "    ['c', 1],\n",
    "    ['d', 1],\n",
    "], schema=[\"A\", \"B\"])\n",
    "df1.show(5)"
   ]
  },
  {
   "cell_type": "code",
   "execution_count": 28,
   "metadata": {},
   "outputs": [
    {
     "name": "stdout",
     "output_type": "stream",
     "text": [
      "+---+---+\n",
      "|  A|  C|\n",
      "+---+---+\n",
      "|  a|  3|\n",
      "|  b|  4|\n",
      "|  c|  5|\n",
      "+---+---+\n",
      "\n"
     ]
    }
   ],
   "source": [
    "df2 = spark.createDataFrame([\n",
    "    ['a', 3],\n",
    "    ['b', 4],\n",
    "    ['c', 5],\n",
    "], schema=[\"A\", \"C\"])\n",
    "df2.show(5)"
   ]
  },
  {
   "cell_type": "code",
   "execution_count": 29,
   "metadata": {},
   "outputs": [
    {
     "name": "stdout",
     "output_type": "stream",
     "text": [
      "+---+---+---+\n",
      "|  A|  B|  C|\n",
      "+---+---+---+\n",
      "|  c|  1|  5|\n",
      "|  b|  1|  4|\n",
      "|  a|  1|  3|\n",
      "+---+---+---+\n",
      "\n"
     ]
    }
   ],
   "source": [
    "df3 = df1.join(df2, how=\"inner\", on=\"A\")\n",
    "df3.show(5)"
   ]
  },
  {
   "cell_type": "code",
   "execution_count": 30,
   "metadata": {},
   "outputs": [
    {
     "name": "stdout",
     "output_type": "stream",
     "text": [
      "+---+---+----+\n",
      "|  A|  B|   C|\n",
      "+---+---+----+\n",
      "|  d|  1|null|\n",
      "|  c|  1|   5|\n",
      "|  b|  1|   4|\n",
      "|  a|  1|   3|\n",
      "+---+---+----+\n",
      "\n"
     ]
    }
   ],
   "source": [
    "df3 = df1.join(df2, how=\"left\", on=\"A\")\n",
    "df3.show(5)"
   ]
  },
  {
   "cell_type": "markdown",
   "metadata": {},
   "source": [
    "### groupby"
   ]
  },
  {
   "cell_type": "code",
   "execution_count": 41,
   "metadata": {
    "collapsed": true
   },
   "outputs": [],
   "source": [
    "df1 = spark.createDataFrame([\n",
    "    ['a', 1],\n",
    "    ['b', 2],\n",
    "    ['b', 3],\n",
    "    ['a', 4],\n",
    "], schema=[\"A\", \"B\"])"
   ]
  },
  {
   "cell_type": "code",
   "execution_count": 42,
   "metadata": {},
   "outputs": [
    {
     "name": "stdout",
     "output_type": "stream",
     "text": [
      "+---+-----+\n",
      "|  A|count|\n",
      "+---+-----+\n",
      "|  b|    2|\n",
      "|  a|    2|\n",
      "+---+-----+\n",
      "\n"
     ]
    }
   ],
   "source": [
    "df1.groupby(\"A\").count().show(5)"
   ]
  },
  {
   "cell_type": "code",
   "execution_count": 44,
   "metadata": {},
   "outputs": [
    {
     "name": "stdout",
     "output_type": "stream",
     "text": [
      "+---+----------------+\n",
      "|  A|distinct_count_B|\n",
      "+---+----------------+\n",
      "|  b|               2|\n",
      "|  a|               2|\n",
      "+---+----------------+\n",
      "\n"
     ]
    }
   ],
   "source": [
    "df1.groupby(\"A\").agg(functions.countDistinct(\"B\").alias(\"distinct_count_B\")).show(5)"
   ]
  },
  {
   "cell_type": "markdown",
   "metadata": {},
   "source": [
    "### sort"
   ]
  },
  {
   "cell_type": "code",
   "execution_count": 45,
   "metadata": {
    "collapsed": true
   },
   "outputs": [],
   "source": [
    "df1 = spark.createDataFrame([\n",
    "    ['a', 1],\n",
    "    ['b', 2],\n",
    "    ['b', 3],\n",
    "    ['a', 4],\n",
    "], schema=[\"A\", \"B\"])"
   ]
  },
  {
   "cell_type": "code",
   "execution_count": 46,
   "metadata": {},
   "outputs": [
    {
     "name": "stdout",
     "output_type": "stream",
     "text": [
      "+---+---+\n",
      "|  A|  B|\n",
      "+---+---+\n",
      "|  a|  4|\n",
      "|  a|  1|\n",
      "|  b|  3|\n",
      "|  b|  2|\n",
      "+---+---+\n",
      "\n"
     ]
    }
   ],
   "source": [
    "df1.sort(\"A\").show(5)"
   ]
  },
  {
   "cell_type": "code",
   "execution_count": 47,
   "metadata": {},
   "outputs": [
    {
     "name": "stdout",
     "output_type": "stream",
     "text": [
      "+---+---+\n",
      "|  A|  B|\n",
      "+---+---+\n",
      "|  b|  2|\n",
      "|  b|  3|\n",
      "|  a|  1|\n",
      "|  a|  4|\n",
      "+---+---+\n",
      "\n"
     ]
    }
   ],
   "source": [
    "df1.sort(\"A\", ascending=False).show(5)"
   ]
  },
  {
   "cell_type": "markdown",
   "metadata": {},
   "source": [
    "### union"
   ]
  },
  {
   "cell_type": "code",
   "execution_count": 48,
   "metadata": {},
   "outputs": [
    {
     "name": "stdout",
     "output_type": "stream",
     "text": [
      "+---+---+\n",
      "|  A|  B|\n",
      "+---+---+\n",
      "|  a|  1|\n",
      "|  b|  1|\n",
      "|  c|  1|\n",
      "|  d|  1|\n",
      "+---+---+\n",
      "\n"
     ]
    }
   ],
   "source": [
    "df1 = spark.createDataFrame([\n",
    "    ['a', 1],\n",
    "    ['b', 1],\n",
    "    ['c', 1],\n",
    "    ['d', 1],\n",
    "], schema=[\"A\", \"B\"])\n",
    "df1.show(5)"
   ]
  },
  {
   "cell_type": "code",
   "execution_count": 49,
   "metadata": {},
   "outputs": [
    {
     "name": "stdout",
     "output_type": "stream",
     "text": [
      "+---+---+\n",
      "|  A|  B|\n",
      "+---+---+\n",
      "|  a|  3|\n",
      "|  b|  4|\n",
      "|  c|  5|\n",
      "+---+---+\n",
      "\n"
     ]
    }
   ],
   "source": [
    "df2 = spark.createDataFrame([\n",
    "    ['a', 3],\n",
    "    ['b', 4],\n",
    "    ['c', 5],\n",
    "], schema=[\"A\", \"B\"])\n",
    "df2.show(5)"
   ]
  },
  {
   "cell_type": "code",
   "execution_count": 50,
   "metadata": {},
   "outputs": [
    {
     "name": "stdout",
     "output_type": "stream",
     "text": [
      "+---+---+\n",
      "|  A|  B|\n",
      "+---+---+\n",
      "|  a|  1|\n",
      "|  b|  1|\n",
      "|  c|  1|\n",
      "|  d|  1|\n",
      "|  a|  3|\n",
      "|  b|  4|\n",
      "|  c|  5|\n",
      "+---+---+\n",
      "\n"
     ]
    }
   ],
   "source": [
    "df3 = df1.union(df2)\n",
    "df3.show(10)"
   ]
  },
  {
   "cell_type": "code",
   "execution_count": 51,
   "metadata": {},
   "outputs": [
    {
     "name": "stdout",
     "output_type": "stream",
     "text": [
      "+---+---+\n",
      "|  B|  A|\n",
      "+---+---+\n",
      "|  1|  a|\n",
      "|  1|  b|\n",
      "|  1|  c|\n",
      "|  1|  d|\n",
      "|  a|  3|\n",
      "|  b|  4|\n",
      "|  c|  5|\n",
      "+---+---+\n",
      "\n"
     ]
    }
   ],
   "source": [
    "# 注意：union是按照字段顺序拼接，不是按照字段名称拼接，所以union前务必保证df1和df2的字段顺序相同\n",
    "df1.select([\"B\", \"A\"]).union(df2).show(10) # 一个错误的示范"
   ]
  },
  {
   "cell_type": "markdown",
   "metadata": {},
   "source": [
    "### toPandas"
   ]
  },
  {
   "cell_type": "code",
   "execution_count": 52,
   "metadata": {},
   "outputs": [
    {
     "data": {
      "text/html": [
       "<div>\n",
       "<style scoped>\n",
       "    .dataframe tbody tr th:only-of-type {\n",
       "        vertical-align: middle;\n",
       "    }\n",
       "\n",
       "    .dataframe tbody tr th {\n",
       "        vertical-align: top;\n",
       "    }\n",
       "\n",
       "    .dataframe thead th {\n",
       "        text-align: right;\n",
       "    }\n",
       "</style>\n",
       "<table border=\"1\" class=\"dataframe\">\n",
       "  <thead>\n",
       "    <tr style=\"text-align: right;\">\n",
       "      <th></th>\n",
       "      <th>A</th>\n",
       "      <th>B</th>\n",
       "    </tr>\n",
       "  </thead>\n",
       "  <tbody>\n",
       "    <tr>\n",
       "      <th>0</th>\n",
       "      <td>a</td>\n",
       "      <td>1</td>\n",
       "    </tr>\n",
       "    <tr>\n",
       "      <th>1</th>\n",
       "      <td>b</td>\n",
       "      <td>1</td>\n",
       "    </tr>\n",
       "    <tr>\n",
       "      <th>2</th>\n",
       "      <td>c</td>\n",
       "      <td>1</td>\n",
       "    </tr>\n",
       "    <tr>\n",
       "      <th>3</th>\n",
       "      <td>d</td>\n",
       "      <td>1</td>\n",
       "    </tr>\n",
       "  </tbody>\n",
       "</table>\n",
       "</div>"
      ],
      "text/plain": [
       "   A  B\n",
       "0  a  1\n",
       "1  b  1\n",
       "2  c  1\n",
       "3  d  1"
      ]
     },
     "execution_count": 52,
     "metadata": {},
     "output_type": "execute_result"
    }
   ],
   "source": [
    "pdf1 = df1.toPandas()\n",
    "pdf1"
   ]
  },
  {
   "cell_type": "markdown",
   "metadata": {},
   "source": [
    "### save"
   ]
  },
  {
   "cell_type": "code",
   "execution_count": null,
   "metadata": {
    "collapsed": true
   },
   "outputs": [],
   "source": [
    "# 写入文件\n",
    "df1.write.parquet(\"...\")  # 路径自行填写\n",
    "df1.write.mode(\"Overwrite\").parquet(\"...\")  # 路径自行填写"
   ]
  },
  {
   "cell_type": "code",
   "execution_count": null,
   "metadata": {
    "collapsed": true
   },
   "outputs": [],
   "source": [
    "sc.stop()  # 关闭spark任务"
   ]
  }
 ],
 "metadata": {
  "kernelspec": {
   "display_name": "Python 2",
   "language": "python",
   "name": "python2"
  },
  "language_info": {
   "codemirror_mode": {
    "name": "ipython",
    "version": 2
   },
   "file_extension": ".py",
   "mimetype": "text/x-python",
   "name": "python",
   "nbconvert_exporter": "python",
   "pygments_lexer": "ipython2",
   "version": "2.7.16"
  }
 },
 "nbformat": 4,
 "nbformat_minor": 2
}
