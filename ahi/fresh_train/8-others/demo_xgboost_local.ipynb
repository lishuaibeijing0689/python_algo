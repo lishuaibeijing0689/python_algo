{
 "cells": [
  {
   "cell_type": "code",
   "execution_count": 1,
   "metadata": {},
   "outputs": [
    {
     "data": {
      "text/plain": [
       "'\\n\\xe6\\xb5\\x8b\\xe8\\xaf\\x95\\xe5\\x8d\\x95\\xe6\\x9c\\xbaxgb\\xe5\\x8e\\x9f\\xe7\\x94\\x9fapi\\xe7\\x9a\\x84\\xe8\\xae\\xad\\xe7\\xbb\\x83\\xe8\\xbf\\x87\\xe7\\xa8\\x8b\\n'"
      ]
     },
     "execution_count": 1,
     "metadata": {},
     "output_type": "execute_result"
    }
   ],
   "source": [
    "\"\"\"\n",
    "测试单机xgb原生api的训练过程\n",
    "\"\"\""
   ]
  },
  {
   "cell_type": "code",
   "execution_count": 1,
   "metadata": {
    "collapsed": true
   },
   "outputs": [],
   "source": [
    "import xgboost as xgb\n",
    "from sklearn import datasets\n",
    "import random\n",
    "import numpy as np"
   ]
  },
  {
   "cell_type": "code",
   "execution_count": 2,
   "metadata": {},
   "outputs": [
    {
     "data": {
      "text/plain": [
       "'0.82'"
      ]
     },
     "execution_count": 2,
     "metadata": {},
     "output_type": "execute_result"
    }
   ],
   "source": [
    "xgb.__version__"
   ]
  },
  {
   "cell_type": "code",
   "execution_count": 3,
   "metadata": {
    "collapsed": true,
    "scrolled": true
   },
   "outputs": [],
   "source": [
    "init_data = datasets.load_breast_cancer()"
   ]
  },
  {
   "cell_type": "code",
   "execution_count": 4,
   "metadata": {
    "collapsed": true
   },
   "outputs": [],
   "source": [
    "data = init_data.data.tolist()\n",
    "label = init_data.target.tolist()"
   ]
  },
  {
   "cell_type": "code",
   "execution_count": 5,
   "metadata": {},
   "outputs": [
    {
     "data": {
      "text/plain": [
       "569"
      ]
     },
     "execution_count": 5,
     "metadata": {},
     "output_type": "execute_result"
    }
   ],
   "source": [
    "len(data)"
   ]
  },
  {
   "cell_type": "code",
   "execution_count": 6,
   "metadata": {},
   "outputs": [
    {
     "data": {
      "text/plain": [
       "30"
      ]
     },
     "execution_count": 6,
     "metadata": {},
     "output_type": "execute_result"
    }
   ],
   "source": [
    "len(data[0])"
   ]
  },
  {
   "cell_type": "code",
   "execution_count": 7,
   "metadata": {
    "collapsed": true
   },
   "outputs": [],
   "source": [
    "idx_shuffle = range(len(label))\n",
    "random.shuffle(idx_shuffle)"
   ]
  },
  {
   "cell_type": "code",
   "execution_count": 8,
   "metadata": {
    "collapsed": true
   },
   "outputs": [],
   "source": [
    "cut = 400\n",
    "x_train = [data[i] for i in idx_shuffle[:cut]]\n",
    "y_train = [label[i] for i in idx_shuffle[:cut]]\n",
    "x_test = [data[i] for i in idx_shuffle[cut:]]\n",
    "y_test = [label[i] for i in idx_shuffle[cut:]]\n"
   ]
  },
  {
   "cell_type": "code",
   "execution_count": 9,
   "metadata": {},
   "outputs": [
    {
     "data": {
      "text/plain": [
       "[1, 0, 0, 1, 1]"
      ]
     },
     "execution_count": 9,
     "metadata": {},
     "output_type": "execute_result"
    }
   ],
   "source": [
    "y_test[:5]"
   ]
  },
  {
   "cell_type": "code",
   "execution_count": 10,
   "metadata": {},
   "outputs": [
    {
     "data": {
      "text/plain": [
       "(250, 150)"
      ]
     },
     "execution_count": 10,
     "metadata": {},
     "output_type": "execute_result"
    }
   ],
   "source": [
    "len([x for x in y_train if x==1]),len([x for x in y_train if x==0])"
   ]
  },
  {
   "cell_type": "code",
   "execution_count": 11,
   "metadata": {},
   "outputs": [
    {
     "data": {
      "text/plain": [
       "(107, 62)"
      ]
     },
     "execution_count": 11,
     "metadata": {},
     "output_type": "execute_result"
    }
   ],
   "source": [
    "len([x for x in y_test if x==1]),len([x for x in y_test if x==0])"
   ]
  },
  {
   "cell_type": "code",
   "execution_count": 12,
   "metadata": {
    "collapsed": true
   },
   "outputs": [],
   "source": [
    "train_data = xgb.DMatrix(x_train, y_train)"
   ]
  },
  {
   "cell_type": "code",
   "execution_count": 13,
   "metadata": {
    "collapsed": true
   },
   "outputs": [],
   "source": [
    "test_data = xgb.DMatrix(x_test, y_test)"
   ]
  },
  {
   "cell_type": "code",
   "execution_count": 14,
   "metadata": {
    "scrolled": true
   },
   "outputs": [
    {
     "name": "stdout",
     "output_type": "stream",
     "text": [
      "[0]\ttrain-auc:0.9862\teval-auc:0.975882\n",
      "Multiple eval metrics have been passed: 'eval-auc' will be used for early stopping.\n",
      "\n",
      "Will train until eval-auc hasn't improved in 50 rounds.\n",
      "[1]\ttrain-auc:0.989533\teval-auc:0.987187\n",
      "[2]\ttrain-auc:0.990253\teval-auc:0.995252\n",
      "[3]\ttrain-auc:0.990827\teval-auc:0.996835\n",
      "[4]\ttrain-auc:0.996347\teval-auc:0.996533\n",
      "[5]\ttrain-auc:0.997187\teval-auc:0.995779\n",
      "[6]\ttrain-auc:0.99728\teval-auc:0.997287\n",
      "[7]\ttrain-auc:0.997213\teval-auc:0.997287\n",
      "[8]\ttrain-auc:0.997413\teval-auc:0.997136\n",
      "[9]\ttrain-auc:0.99768\teval-auc:0.996985\n",
      "[10]\ttrain-auc:0.998547\teval-auc:0.996985\n",
      "[11]\ttrain-auc:0.998547\teval-auc:0.997437\n",
      "[12]\ttrain-auc:0.998627\teval-auc:0.99789\n",
      "[13]\ttrain-auc:0.998733\teval-auc:0.998493\n",
      "[14]\ttrain-auc:0.99892\teval-auc:0.998794\n",
      "[15]\ttrain-auc:0.999107\teval-auc:0.999246\n",
      "[16]\ttrain-auc:0.99908\teval-auc:0.999699\n",
      "[17]\ttrain-auc:0.99924\teval-auc:0.999699\n",
      "[18]\ttrain-auc:0.999427\teval-auc:0.999699\n",
      "[19]\ttrain-auc:0.999453\teval-auc:0.999699\n",
      "[20]\ttrain-auc:0.9994\teval-auc:0.999699\n",
      "[21]\ttrain-auc:0.99948\teval-auc:0.999699\n",
      "[22]\ttrain-auc:0.999507\teval-auc:1\n",
      "[23]\ttrain-auc:0.999587\teval-auc:0.999849\n",
      "[24]\ttrain-auc:0.99956\teval-auc:0.999849\n",
      "[25]\ttrain-auc:0.999653\teval-auc:0.999849\n",
      "[26]\ttrain-auc:0.999733\teval-auc:0.999548\n",
      "[27]\ttrain-auc:0.999787\teval-auc:0.999548\n",
      "[28]\ttrain-auc:0.999733\teval-auc:0.999397\n",
      "[29]\ttrain-auc:0.999787\teval-auc:0.999397\n",
      "[30]\ttrain-auc:0.99984\teval-auc:0.999246\n",
      "[31]\ttrain-auc:0.99984\teval-auc:0.999096\n",
      "[32]\ttrain-auc:0.999893\teval-auc:0.998794\n",
      "[33]\ttrain-auc:0.999947\teval-auc:0.999096\n",
      "[34]\ttrain-auc:0.99992\teval-auc:0.999096\n",
      "[35]\ttrain-auc:0.99992\teval-auc:0.999096\n",
      "[36]\ttrain-auc:0.999973\teval-auc:0.999096\n",
      "[37]\ttrain-auc:1\teval-auc:0.998945\n",
      "[38]\ttrain-auc:1\teval-auc:0.998342\n",
      "[39]\ttrain-auc:1\teval-auc:0.998342\n",
      "[40]\ttrain-auc:1\teval-auc:0.998794\n",
      "[41]\ttrain-auc:1\teval-auc:0.998493\n",
      "[42]\ttrain-auc:1\teval-auc:0.998794\n",
      "[43]\ttrain-auc:1\teval-auc:0.998794\n",
      "[44]\ttrain-auc:1\teval-auc:0.998643\n",
      "[45]\ttrain-auc:1\teval-auc:0.998643\n",
      "[46]\ttrain-auc:1\teval-auc:0.998643\n",
      "[47]\ttrain-auc:1\teval-auc:0.998794\n",
      "[48]\ttrain-auc:1\teval-auc:0.998794\n",
      "[49]\ttrain-auc:1\teval-auc:0.998493\n",
      "[50]\ttrain-auc:1\teval-auc:0.998643\n",
      "[51]\ttrain-auc:1\teval-auc:0.998493\n",
      "[52]\ttrain-auc:1\teval-auc:0.998643\n",
      "[53]\ttrain-auc:1\teval-auc:0.998794\n",
      "[54]\ttrain-auc:1\teval-auc:0.998794\n",
      "[55]\ttrain-auc:1\teval-auc:0.998643\n",
      "[56]\ttrain-auc:1\teval-auc:0.998643\n",
      "[57]\ttrain-auc:1\teval-auc:0.998794\n",
      "[58]\ttrain-auc:1\teval-auc:0.998794\n",
      "[59]\ttrain-auc:1\teval-auc:0.998794\n",
      "[60]\ttrain-auc:1\teval-auc:0.998794\n",
      "[61]\ttrain-auc:1\teval-auc:0.998794\n",
      "[62]\ttrain-auc:1\teval-auc:0.998794\n",
      "[63]\ttrain-auc:1\teval-auc:0.998794\n",
      "[64]\ttrain-auc:1\teval-auc:0.998794\n",
      "[65]\ttrain-auc:1\teval-auc:0.998945\n",
      "[66]\ttrain-auc:1\teval-auc:0.998945\n",
      "[67]\ttrain-auc:1\teval-auc:0.998945\n",
      "[68]\ttrain-auc:1\teval-auc:0.998794\n",
      "[69]\ttrain-auc:1\teval-auc:0.998794\n",
      "[70]\ttrain-auc:1\teval-auc:0.998794\n",
      "[71]\ttrain-auc:1\teval-auc:0.998945\n",
      "[72]\ttrain-auc:1\teval-auc:0.998945\n",
      "Stopping. Best iteration:\n",
      "[22]\ttrain-auc:0.999507\teval-auc:1\n",
      "\n"
     ]
    }
   ],
   "source": [
    "params = {\n",
    "    'eta': 0.1, \n",
    "    'max_depth': 4,\n",
    "    'subsample': 0.8,\n",
    "    'colsample_bytree': 0.8,\n",
    "    'objective': 'binary:logistic',\n",
    "    'eval_metric': 'auc',\n",
    "    'seed': 2019,\n",
    "    \"verbosity\" : 1\n",
    "}\n",
    "\n",
    "bst = xgb.train(params, train_data, \n",
    "                num_boost_round=1000, early_stopping_rounds=50, evals=[(train_data,'train'),(test_data,'eval')])"
   ]
  },
  {
   "cell_type": "code",
   "execution_count": 15,
   "metadata": {
    "collapsed": true
   },
   "outputs": [],
   "source": [
    "# [155]\ttrain-auc:1\teval-auc:0.990991"
   ]
  },
  {
   "cell_type": "code",
   "execution_count": 16,
   "metadata": {
    "collapsed": true
   },
   "outputs": [],
   "source": [
    "bst.save_model('xgb.model')"
   ]
  },
  {
   "cell_type": "code",
   "execution_count": 17,
   "metadata": {
    "collapsed": true
   },
   "outputs": [],
   "source": [
    "bst.dump_model('xgb.model.dump')"
   ]
  },
  {
   "cell_type": "code",
   "execution_count": 18,
   "metadata": {
    "collapsed": true
   },
   "outputs": [],
   "source": [
    "# bst = xgb.Booster()\n",
    "# bst.load_model('xgb.model')"
   ]
  },
  {
   "cell_type": "code",
   "execution_count": 19,
   "metadata": {
    "scrolled": true
   },
   "outputs": [
    {
     "data": {
      "text/plain": [
       "array([ 0.99502808,  0.0034492 ,  0.00231141,  0.99747306,  0.99729639,\n",
       "        0.0046844 ,  0.67128599,  0.60281348,  0.00243281,  0.01052923,\n",
       "        0.52658558,  0.99761945,  0.00218792,  0.99665451,  0.00290755,\n",
       "        0.99522299,  0.01241635,  0.99711573,  0.05721521,  0.991799  ,\n",
       "        0.98402023,  0.99745685,  0.00219818,  0.99521363,  0.03612326,\n",
       "        0.99439764,  0.00274748,  0.08312454,  0.00522216,  0.00336218,\n",
       "        0.64761466,  0.99695802,  0.00177891,  0.99790537,  0.0021429 ,\n",
       "        0.00783591,  0.99513584,  0.00997394,  0.82335013,  0.96148926,\n",
       "        0.76234245,  0.99667919,  0.99729013,  0.0071997 ,  0.90502304,\n",
       "        0.00290115,  0.00890846,  0.9967894 ,  0.99656492,  0.99668401,\n",
       "        0.00274403,  0.99660033,  0.59599429,  0.99615979,  0.99668401,\n",
       "        0.99740726,  0.99691099,  0.00469818,  0.33329353,  0.99274302,\n",
       "        0.99209177,  0.9904508 ,  0.97709399,  0.99764001,  0.99061006,\n",
       "        0.99686396,  0.98964322,  0.00616986,  0.86610991,  0.00382452,\n",
       "        0.02844847,  0.97878087,  0.00359828,  0.99769419,  0.78719068,\n",
       "        0.9948197 ,  0.01595074,  0.0017019 ,  0.00351908,  0.99449217,\n",
       "        0.00322883,  0.0019335 ,  0.99680018,  0.99603456,  0.99761093,\n",
       "        0.9958716 ,  0.99508047,  0.98283654,  0.99757594,  0.99657863,\n",
       "        0.00212781,  0.99513274,  0.00648571,  0.00246108,  0.99787581,\n",
       "        0.99444556,  0.00922059,  0.00247789,  0.99641341,  0.91002256,\n",
       "        0.00221692,  0.00447137,  0.00472349,  0.98022836,  0.58394212,\n",
       "        0.99608129,  0.99634653,  0.26035362,  0.9942345 ,  0.02005101,\n",
       "        0.0019335 ,  0.93194288,  0.00740642,  0.99616665,  0.99742186,\n",
       "        0.99772745,  0.00247789,  0.97754818,  0.00203831,  0.99749869,\n",
       "        0.99635208,  0.83446419,  0.98752183,  0.99477732,  0.99745768,\n",
       "        0.99614632,  0.00164091,  0.99687177,  0.99485779,  0.98631531,\n",
       "        0.9962799 ,  0.78859138,  0.99425912,  0.60840917,  0.99654859,\n",
       "        0.99684972,  0.99229312,  0.99629408,  0.99182314,  0.00648791,\n",
       "        0.98243678,  0.9971391 ,  0.00521735,  0.99289387,  0.05240311,\n",
       "        0.99281913,  0.19781505,  0.98162246,  0.08937824,  0.99275255,\n",
       "        0.99749291,  0.74241549,  0.24262039,  0.99749893,  0.00423263,\n",
       "        0.99573839,  0.03039959,  0.00181854,  0.00382452,  0.98811322,\n",
       "        0.00217564,  0.00230807,  0.97954559,  0.13690659,  0.00230807,\n",
       "        0.00384215,  0.99740857,  0.99590439,  0.76625389], dtype=float32)"
      ]
     },
     "execution_count": 19,
     "metadata": {},
     "output_type": "execute_result"
    }
   ],
   "source": [
    "preds = bst.predict(test_data)\n",
    "preds"
   ]
  },
  {
   "cell_type": "code",
   "execution_count": 20,
   "metadata": {},
   "outputs": [
    {
     "data": {
      "text/plain": [
       "'\\nsklearn xgb api\\n'"
      ]
     },
     "execution_count": 20,
     "metadata": {},
     "output_type": "execute_result"
    }
   ],
   "source": [
    "\"\"\"\n",
    "sklearn xgb api\n",
    "\"\"\""
   ]
  },
  {
   "cell_type": "code",
   "execution_count": 21,
   "metadata": {
    "collapsed": true
   },
   "outputs": [],
   "source": [
    "from xgboost import XGBClassifier"
   ]
  },
  {
   "cell_type": "code",
   "execution_count": 22,
   "metadata": {
    "collapsed": true
   },
   "outputs": [],
   "source": [
    "model = XGBClassifier(learning_rate=0.1, max_depth=3, \n",
    "                      n_estimators=1000, subsample=0.8, colsample_bytree=0.8, objective='binary:logistic')"
   ]
  },
  {
   "cell_type": "code",
   "execution_count": 23,
   "metadata": {
    "collapsed": true
   },
   "outputs": [],
   "source": [
    "x_train_np = np.array(x_train)\n",
    "y_train_np = np.array(y_train)\n",
    "x_test_np = np.array(x_test)\n",
    "y_test_np = np.array(y_test)"
   ]
  },
  {
   "cell_type": "code",
   "execution_count": 24,
   "metadata": {
    "scrolled": true
   },
   "outputs": [
    {
     "name": "stdout",
     "output_type": "stream",
     "text": [
      "[0]\tvalidation_0-auc:0.958547\n",
      "Will train until validation_0-auc hasn't improved in 20 rounds.\n",
      "[1]\tvalidation_0-auc:0.988242\n",
      "[2]\tvalidation_0-auc:0.990127\n",
      "[3]\tvalidation_0-auc:0.994875\n",
      "[4]\tvalidation_0-auc:0.995478\n",
      "[5]\tvalidation_0-auc:0.996081\n",
      "[6]\tvalidation_0-auc:0.996156\n",
      "[7]\tvalidation_0-auc:0.997664\n",
      "[8]\tvalidation_0-auc:0.998794\n",
      "[9]\tvalidation_0-auc:0.998945\n",
      "[10]\tvalidation_0-auc:0.998643\n",
      "[11]\tvalidation_0-auc:0.999246\n",
      "[12]\tvalidation_0-auc:0.999397\n",
      "[13]\tvalidation_0-auc:0.998945\n",
      "[14]\tvalidation_0-auc:0.999096\n",
      "[15]\tvalidation_0-auc:0.999096\n",
      "[16]\tvalidation_0-auc:0.999096\n",
      "[17]\tvalidation_0-auc:0.999397\n",
      "[18]\tvalidation_0-auc:0.999246\n",
      "[19]\tvalidation_0-auc:0.999096\n",
      "[20]\tvalidation_0-auc:0.998794\n",
      "[21]\tvalidation_0-auc:0.998945\n",
      "[22]\tvalidation_0-auc:0.999096\n",
      "[23]\tvalidation_0-auc:0.999096\n",
      "[24]\tvalidation_0-auc:0.999246\n",
      "[25]\tvalidation_0-auc:0.998945\n",
      "[26]\tvalidation_0-auc:0.999096\n",
      "[27]\tvalidation_0-auc:0.998794\n",
      "[28]\tvalidation_0-auc:0.999096\n",
      "[29]\tvalidation_0-auc:0.999096\n",
      "[30]\tvalidation_0-auc:0.998794\n",
      "[31]\tvalidation_0-auc:0.999096\n",
      "[32]\tvalidation_0-auc:0.999096\n",
      "Stopping. Best iteration:\n",
      "[12]\tvalidation_0-auc:0.999397\n",
      "\n"
     ]
    },
    {
     "data": {
      "text/plain": [
       "XGBClassifier(base_score=0.5, booster='gbtree', colsample_bylevel=1,\n",
       "       colsample_bytree=0.8, gamma=0, learning_rate=0.1, max_delta_step=0,\n",
       "       max_depth=3, min_child_weight=1, missing=None, n_estimators=1000,\n",
       "       n_jobs=1, nthread=None, objective='binary:logistic', random_state=0,\n",
       "       reg_alpha=0, reg_lambda=1, scale_pos_weight=1, seed=None,\n",
       "       silent=True, subsample=0.8)"
      ]
     },
     "execution_count": 24,
     "metadata": {},
     "output_type": "execute_result"
    }
   ],
   "source": [
    "model.fit(x_train_np, y_train_np, eval_metric='auc', early_stopping_rounds=20, eval_set=[(x_test_np, y_test_np)])"
   ]
  },
  {
   "cell_type": "code",
   "execution_count": 25,
   "metadata": {
    "scrolled": true
   },
   "outputs": [
    {
     "data": {
      "text/plain": [
       "[0.027132757008075714,\n",
       " 0.028198624029755592,\n",
       " 0.0,\n",
       " 0.019124213606119156,\n",
       " 0.0007970760343596339,\n",
       " 0.0,\n",
       " 0.02389308251440525,\n",
       " 0.17492029070854187,\n",
       " 0.0027190058026462793,\n",
       " 0.0071188234724104404,\n",
       " 0.016757942736148834,\n",
       " 0.0008764059748500586,\n",
       " 0.005978958215564489,\n",
       " 0.02009187452495098,\n",
       " 0.008081349544227123,\n",
       " 0.01580699160695076,\n",
       " 0.016337772831320763,\n",
       " 0.0037760771811008453,\n",
       " 0.0,\n",
       " 0.012141801416873932,\n",
       " 0.026430804282426834,\n",
       " 0.026011403650045395,\n",
       " 0.32300013303756714,\n",
       " 0.043843042105436325,\n",
       " 0.020435402169823647,\n",
       " 0.002634305041283369,\n",
       " 0.024633409455418587,\n",
       " 0.12652477622032166,\n",
       " 0.012967114336788654,\n",
       " 0.009766515344381332]"
      ]
     },
     "execution_count": 25,
     "metadata": {},
     "output_type": "execute_result"
    }
   ],
   "source": [
    "importance = model.feature_importances_.tolist()\n",
    "importance"
   ]
  },
  {
   "cell_type": "code",
   "execution_count": 26,
   "metadata": {
    "collapsed": true
   },
   "outputs": [],
   "source": [
    "feature_names = ['fea_%d' % i for i in range(len(importance))]"
   ]
  },
  {
   "cell_type": "code",
   "execution_count": 27,
   "metadata": {
    "collapsed": true
   },
   "outputs": [],
   "source": [
    "import pandas as pd"
   ]
  },
  {
   "cell_type": "code",
   "execution_count": 28,
   "metadata": {
    "collapsed": true
   },
   "outputs": [],
   "source": [
    "pdf_importance = pd.DataFrame({'fea': feature_names, 'importance': importance})"
   ]
  },
  {
   "cell_type": "code",
   "execution_count": 29,
   "metadata": {
    "scrolled": true
   },
   "outputs": [
    {
     "data": {
      "text/html": [
       "<div>\n",
       "<style scoped>\n",
       "    .dataframe tbody tr th:only-of-type {\n",
       "        vertical-align: middle;\n",
       "    }\n",
       "\n",
       "    .dataframe tbody tr th {\n",
       "        vertical-align: top;\n",
       "    }\n",
       "\n",
       "    .dataframe thead th {\n",
       "        text-align: right;\n",
       "    }\n",
       "</style>\n",
       "<table border=\"1\" class=\"dataframe\">\n",
       "  <thead>\n",
       "    <tr style=\"text-align: right;\">\n",
       "      <th></th>\n",
       "      <th>fea</th>\n",
       "      <th>importance</th>\n",
       "    </tr>\n",
       "  </thead>\n",
       "  <tbody>\n",
       "    <tr>\n",
       "      <th>0</th>\n",
       "      <td>fea_0</td>\n",
       "      <td>0.027133</td>\n",
       "    </tr>\n",
       "    <tr>\n",
       "      <th>1</th>\n",
       "      <td>fea_1</td>\n",
       "      <td>0.028199</td>\n",
       "    </tr>\n",
       "    <tr>\n",
       "      <th>2</th>\n",
       "      <td>fea_2</td>\n",
       "      <td>0.000000</td>\n",
       "    </tr>\n",
       "    <tr>\n",
       "      <th>3</th>\n",
       "      <td>fea_3</td>\n",
       "      <td>0.019124</td>\n",
       "    </tr>\n",
       "    <tr>\n",
       "      <th>4</th>\n",
       "      <td>fea_4</td>\n",
       "      <td>0.000797</td>\n",
       "    </tr>\n",
       "    <tr>\n",
       "      <th>5</th>\n",
       "      <td>fea_5</td>\n",
       "      <td>0.000000</td>\n",
       "    </tr>\n",
       "    <tr>\n",
       "      <th>6</th>\n",
       "      <td>fea_6</td>\n",
       "      <td>0.023893</td>\n",
       "    </tr>\n",
       "    <tr>\n",
       "      <th>7</th>\n",
       "      <td>fea_7</td>\n",
       "      <td>0.174920</td>\n",
       "    </tr>\n",
       "    <tr>\n",
       "      <th>8</th>\n",
       "      <td>fea_8</td>\n",
       "      <td>0.002719</td>\n",
       "    </tr>\n",
       "    <tr>\n",
       "      <th>9</th>\n",
       "      <td>fea_9</td>\n",
       "      <td>0.007119</td>\n",
       "    </tr>\n",
       "    <tr>\n",
       "      <th>10</th>\n",
       "      <td>fea_10</td>\n",
       "      <td>0.016758</td>\n",
       "    </tr>\n",
       "    <tr>\n",
       "      <th>11</th>\n",
       "      <td>fea_11</td>\n",
       "      <td>0.000876</td>\n",
       "    </tr>\n",
       "    <tr>\n",
       "      <th>12</th>\n",
       "      <td>fea_12</td>\n",
       "      <td>0.005979</td>\n",
       "    </tr>\n",
       "    <tr>\n",
       "      <th>13</th>\n",
       "      <td>fea_13</td>\n",
       "      <td>0.020092</td>\n",
       "    </tr>\n",
       "    <tr>\n",
       "      <th>14</th>\n",
       "      <td>fea_14</td>\n",
       "      <td>0.008081</td>\n",
       "    </tr>\n",
       "    <tr>\n",
       "      <th>15</th>\n",
       "      <td>fea_15</td>\n",
       "      <td>0.015807</td>\n",
       "    </tr>\n",
       "    <tr>\n",
       "      <th>16</th>\n",
       "      <td>fea_16</td>\n",
       "      <td>0.016338</td>\n",
       "    </tr>\n",
       "    <tr>\n",
       "      <th>17</th>\n",
       "      <td>fea_17</td>\n",
       "      <td>0.003776</td>\n",
       "    </tr>\n",
       "    <tr>\n",
       "      <th>18</th>\n",
       "      <td>fea_18</td>\n",
       "      <td>0.000000</td>\n",
       "    </tr>\n",
       "    <tr>\n",
       "      <th>19</th>\n",
       "      <td>fea_19</td>\n",
       "      <td>0.012142</td>\n",
       "    </tr>\n",
       "    <tr>\n",
       "      <th>20</th>\n",
       "      <td>fea_20</td>\n",
       "      <td>0.026431</td>\n",
       "    </tr>\n",
       "    <tr>\n",
       "      <th>21</th>\n",
       "      <td>fea_21</td>\n",
       "      <td>0.026011</td>\n",
       "    </tr>\n",
       "    <tr>\n",
       "      <th>22</th>\n",
       "      <td>fea_22</td>\n",
       "      <td>0.323000</td>\n",
       "    </tr>\n",
       "    <tr>\n",
       "      <th>23</th>\n",
       "      <td>fea_23</td>\n",
       "      <td>0.043843</td>\n",
       "    </tr>\n",
       "    <tr>\n",
       "      <th>24</th>\n",
       "      <td>fea_24</td>\n",
       "      <td>0.020435</td>\n",
       "    </tr>\n",
       "    <tr>\n",
       "      <th>25</th>\n",
       "      <td>fea_25</td>\n",
       "      <td>0.002634</td>\n",
       "    </tr>\n",
       "    <tr>\n",
       "      <th>26</th>\n",
       "      <td>fea_26</td>\n",
       "      <td>0.024633</td>\n",
       "    </tr>\n",
       "    <tr>\n",
       "      <th>27</th>\n",
       "      <td>fea_27</td>\n",
       "      <td>0.126525</td>\n",
       "    </tr>\n",
       "    <tr>\n",
       "      <th>28</th>\n",
       "      <td>fea_28</td>\n",
       "      <td>0.012967</td>\n",
       "    </tr>\n",
       "    <tr>\n",
       "      <th>29</th>\n",
       "      <td>fea_29</td>\n",
       "      <td>0.009767</td>\n",
       "    </tr>\n",
       "  </tbody>\n",
       "</table>\n",
       "</div>"
      ],
      "text/plain": [
       "       fea  importance\n",
       "0    fea_0    0.027133\n",
       "1    fea_1    0.028199\n",
       "2    fea_2    0.000000\n",
       "3    fea_3    0.019124\n",
       "4    fea_4    0.000797\n",
       "5    fea_5    0.000000\n",
       "6    fea_6    0.023893\n",
       "7    fea_7    0.174920\n",
       "8    fea_8    0.002719\n",
       "9    fea_9    0.007119\n",
       "10  fea_10    0.016758\n",
       "11  fea_11    0.000876\n",
       "12  fea_12    0.005979\n",
       "13  fea_13    0.020092\n",
       "14  fea_14    0.008081\n",
       "15  fea_15    0.015807\n",
       "16  fea_16    0.016338\n",
       "17  fea_17    0.003776\n",
       "18  fea_18    0.000000\n",
       "19  fea_19    0.012142\n",
       "20  fea_20    0.026431\n",
       "21  fea_21    0.026011\n",
       "22  fea_22    0.323000\n",
       "23  fea_23    0.043843\n",
       "24  fea_24    0.020435\n",
       "25  fea_25    0.002634\n",
       "26  fea_26    0.024633\n",
       "27  fea_27    0.126525\n",
       "28  fea_28    0.012967\n",
       "29  fea_29    0.009767"
      ]
     },
     "execution_count": 29,
     "metadata": {},
     "output_type": "execute_result"
    }
   ],
   "source": [
    "pdf_importance"
   ]
  },
  {
   "cell_type": "code",
   "execution_count": 30,
   "metadata": {
    "scrolled": true
   },
   "outputs": [
    {
     "data": {
      "text/html": [
       "<div>\n",
       "<style scoped>\n",
       "    .dataframe tbody tr th:only-of-type {\n",
       "        vertical-align: middle;\n",
       "    }\n",
       "\n",
       "    .dataframe tbody tr th {\n",
       "        vertical-align: top;\n",
       "    }\n",
       "\n",
       "    .dataframe thead th {\n",
       "        text-align: right;\n",
       "    }\n",
       "</style>\n",
       "<table border=\"1\" class=\"dataframe\">\n",
       "  <thead>\n",
       "    <tr style=\"text-align: right;\">\n",
       "      <th></th>\n",
       "      <th>fea</th>\n",
       "      <th>importance</th>\n",
       "    </tr>\n",
       "  </thead>\n",
       "  <tbody>\n",
       "    <tr>\n",
       "      <th>0</th>\n",
       "      <td>fea_22</td>\n",
       "      <td>0.323000</td>\n",
       "    </tr>\n",
       "    <tr>\n",
       "      <th>1</th>\n",
       "      <td>fea_7</td>\n",
       "      <td>0.174920</td>\n",
       "    </tr>\n",
       "    <tr>\n",
       "      <th>2</th>\n",
       "      <td>fea_27</td>\n",
       "      <td>0.126525</td>\n",
       "    </tr>\n",
       "    <tr>\n",
       "      <th>3</th>\n",
       "      <td>fea_23</td>\n",
       "      <td>0.043843</td>\n",
       "    </tr>\n",
       "    <tr>\n",
       "      <th>4</th>\n",
       "      <td>fea_1</td>\n",
       "      <td>0.028199</td>\n",
       "    </tr>\n",
       "    <tr>\n",
       "      <th>5</th>\n",
       "      <td>fea_0</td>\n",
       "      <td>0.027133</td>\n",
       "    </tr>\n",
       "    <tr>\n",
       "      <th>6</th>\n",
       "      <td>fea_20</td>\n",
       "      <td>0.026431</td>\n",
       "    </tr>\n",
       "    <tr>\n",
       "      <th>7</th>\n",
       "      <td>fea_21</td>\n",
       "      <td>0.026011</td>\n",
       "    </tr>\n",
       "    <tr>\n",
       "      <th>8</th>\n",
       "      <td>fea_26</td>\n",
       "      <td>0.024633</td>\n",
       "    </tr>\n",
       "    <tr>\n",
       "      <th>9</th>\n",
       "      <td>fea_6</td>\n",
       "      <td>0.023893</td>\n",
       "    </tr>\n",
       "    <tr>\n",
       "      <th>10</th>\n",
       "      <td>fea_24</td>\n",
       "      <td>0.020435</td>\n",
       "    </tr>\n",
       "    <tr>\n",
       "      <th>11</th>\n",
       "      <td>fea_13</td>\n",
       "      <td>0.020092</td>\n",
       "    </tr>\n",
       "    <tr>\n",
       "      <th>12</th>\n",
       "      <td>fea_3</td>\n",
       "      <td>0.019124</td>\n",
       "    </tr>\n",
       "    <tr>\n",
       "      <th>13</th>\n",
       "      <td>fea_10</td>\n",
       "      <td>0.016758</td>\n",
       "    </tr>\n",
       "    <tr>\n",
       "      <th>14</th>\n",
       "      <td>fea_16</td>\n",
       "      <td>0.016338</td>\n",
       "    </tr>\n",
       "    <tr>\n",
       "      <th>15</th>\n",
       "      <td>fea_15</td>\n",
       "      <td>0.015807</td>\n",
       "    </tr>\n",
       "    <tr>\n",
       "      <th>16</th>\n",
       "      <td>fea_28</td>\n",
       "      <td>0.012967</td>\n",
       "    </tr>\n",
       "    <tr>\n",
       "      <th>17</th>\n",
       "      <td>fea_19</td>\n",
       "      <td>0.012142</td>\n",
       "    </tr>\n",
       "    <tr>\n",
       "      <th>18</th>\n",
       "      <td>fea_29</td>\n",
       "      <td>0.009767</td>\n",
       "    </tr>\n",
       "    <tr>\n",
       "      <th>19</th>\n",
       "      <td>fea_14</td>\n",
       "      <td>0.008081</td>\n",
       "    </tr>\n",
       "    <tr>\n",
       "      <th>20</th>\n",
       "      <td>fea_9</td>\n",
       "      <td>0.007119</td>\n",
       "    </tr>\n",
       "    <tr>\n",
       "      <th>21</th>\n",
       "      <td>fea_12</td>\n",
       "      <td>0.005979</td>\n",
       "    </tr>\n",
       "    <tr>\n",
       "      <th>22</th>\n",
       "      <td>fea_17</td>\n",
       "      <td>0.003776</td>\n",
       "    </tr>\n",
       "    <tr>\n",
       "      <th>23</th>\n",
       "      <td>fea_8</td>\n",
       "      <td>0.002719</td>\n",
       "    </tr>\n",
       "    <tr>\n",
       "      <th>24</th>\n",
       "      <td>fea_25</td>\n",
       "      <td>0.002634</td>\n",
       "    </tr>\n",
       "    <tr>\n",
       "      <th>25</th>\n",
       "      <td>fea_11</td>\n",
       "      <td>0.000876</td>\n",
       "    </tr>\n",
       "    <tr>\n",
       "      <th>26</th>\n",
       "      <td>fea_4</td>\n",
       "      <td>0.000797</td>\n",
       "    </tr>\n",
       "    <tr>\n",
       "      <th>27</th>\n",
       "      <td>fea_18</td>\n",
       "      <td>0.000000</td>\n",
       "    </tr>\n",
       "    <tr>\n",
       "      <th>28</th>\n",
       "      <td>fea_5</td>\n",
       "      <td>0.000000</td>\n",
       "    </tr>\n",
       "    <tr>\n",
       "      <th>29</th>\n",
       "      <td>fea_2</td>\n",
       "      <td>0.000000</td>\n",
       "    </tr>\n",
       "  </tbody>\n",
       "</table>\n",
       "</div>"
      ],
      "text/plain": [
       "       fea  importance\n",
       "0   fea_22    0.323000\n",
       "1    fea_7    0.174920\n",
       "2   fea_27    0.126525\n",
       "3   fea_23    0.043843\n",
       "4    fea_1    0.028199\n",
       "5    fea_0    0.027133\n",
       "6   fea_20    0.026431\n",
       "7   fea_21    0.026011\n",
       "8   fea_26    0.024633\n",
       "9    fea_6    0.023893\n",
       "10  fea_24    0.020435\n",
       "11  fea_13    0.020092\n",
       "12   fea_3    0.019124\n",
       "13  fea_10    0.016758\n",
       "14  fea_16    0.016338\n",
       "15  fea_15    0.015807\n",
       "16  fea_28    0.012967\n",
       "17  fea_19    0.012142\n",
       "18  fea_29    0.009767\n",
       "19  fea_14    0.008081\n",
       "20   fea_9    0.007119\n",
       "21  fea_12    0.005979\n",
       "22  fea_17    0.003776\n",
       "23   fea_8    0.002719\n",
       "24  fea_25    0.002634\n",
       "25  fea_11    0.000876\n",
       "26   fea_4    0.000797\n",
       "27  fea_18    0.000000\n",
       "28   fea_5    0.000000\n",
       "29   fea_2    0.000000"
      ]
     },
     "execution_count": 30,
     "metadata": {},
     "output_type": "execute_result"
    }
   ],
   "source": [
    "pdf_importance.sort_values('importance', ascending=False).reset_index(drop=True)"
   ]
  }
 ],
 "metadata": {
  "kernelspec": {
   "display_name": "Python 2",
   "language": "python",
   "name": "python2"
  },
  "language_info": {
   "codemirror_mode": {
    "name": "ipython",
    "version": 2
   },
   "file_extension": ".py",
   "mimetype": "text/x-python",
   "name": "python",
   "nbconvert_exporter": "python",
   "pygments_lexer": "ipython2",
   "version": "2.7.16"
  }
 },
 "nbformat": 4,
 "nbformat_minor": 2
}
