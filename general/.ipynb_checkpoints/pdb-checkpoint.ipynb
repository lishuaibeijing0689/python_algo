{
 "cells": [
  {
   "cell_type": "code",
   "execution_count": null,
   "metadata": {},
   "outputs": [],
   "source": [
    "\"\"\"\n",
    "pdb debug\n",
    "\n",
    "pdb常用命令： \n",
    "n--下一步（不进入函数内部）\n",
    "s--下一步（进入函数内部）\n",
    "p [变量] -- 打印变量的值\n",
    "q -- 退出调试\n",
    "\n",
    "b [行数] -- 设置断点\n",
    "c -- 执行直到下一个断点\n",
    "cl -- 清空所有断点\n",
    "cl [行数] -- 清空指定断点\n",
    "\n",
    "\"\"\""
   ]
  },
  {
   "cell_type": "code",
   "execution_count": 1,
   "metadata": {},
   "outputs": [],
   "source": [
    "import pdb"
   ]
  },
  {
   "cell_type": "code",
   "execution_count": 2,
   "metadata": {
    "scrolled": true
   },
   "outputs": [],
   "source": [
    "def sum(a, b):\n",
    "    c = a + b\n",
    "    return c\n"
   ]
  },
  {
   "cell_type": "code",
   "execution_count": null,
   "metadata": {},
   "outputs": [],
   "source": [
    "pdb.set_trace()\n",
    "a = 1\n",
    "b = 2\n",
    "c = sum(a, b)\n",
    "print(c)\n",
    "return c"
   ]
  },
  {
   "cell_type": "code",
   "execution_count": 3,
   "metadata": {
    "scrolled": true
   },
   "outputs": [
    {
     "name": "stdout",
     "output_type": "stream",
     "text": [
      "> <ipython-input-3-b2fa9b5253ea>(3)test_pdb()\n",
      "-> a = 1\n",
      "(Pdb) n\n",
      "> <ipython-input-3-b2fa9b5253ea>(4)test_pdb()\n",
      "-> b = 2\n",
      "(Pdb) n\n",
      "> <ipython-input-3-b2fa9b5253ea>(5)test_pdb()\n",
      "-> c = sum(a, b)\n",
      "(Pdb) n\n",
      "> <ipython-input-3-b2fa9b5253ea>(6)test_pdb()\n",
      "-> print(c)\n",
      "(Pdb) n\n",
      "3\n",
      "> <ipython-input-3-b2fa9b5253ea>(7)test_pdb()\n",
      "-> return c\n",
      "(Pdb) n\n",
      "--Return--\n",
      "> <ipython-input-3-b2fa9b5253ea>(7)test_pdb()->3\n",
      "-> return c\n",
      "(Pdb) c\n"
     ]
    },
    {
     "data": {
      "text/plain": [
       "3"
      ]
     },
     "execution_count": 3,
     "metadata": {},
     "output_type": "execute_result"
    }
   ],
   "source": [
    "# 单步执行直到结束\n",
    "def test_pdb():\n",
    "    pdb.set_trace()\n",
    "    a = 1\n",
    "    b = 2\n",
    "    c = sum(a, b)\n",
    "    print(c)\n",
    "    return c\n",
    "\n",
    "test_pdb()"
   ]
  },
  {
   "cell_type": "code",
   "execution_count": 5,
   "metadata": {
    "scrolled": true
   },
   "outputs": [
    {
     "name": "stdout",
     "output_type": "stream",
     "text": [
      "> <ipython-input-5-6e0ad43f89ea>(4)test_pdb()\n",
      "-> a = 1\n",
      "(Pdb) b 5\n",
      "Breakpoint 1 at <ipython-input-5-6e0ad43f89ea>:5\n",
      "(Pdb) c\n",
      "> <ipython-input-5-6e0ad43f89ea>(5)test_pdb()\n",
      "-> b = 2\n",
      "(Pdb) p b\n",
      "*** NameError: name 'b' is not defined\n",
      "(Pdb) p a\n",
      "1\n",
      "(Pdb) p c\n",
      "*** NameError: name 'c' is not defined\n",
      "(Pdb) c\n",
      "3\n"
     ]
    },
    {
     "data": {
      "text/plain": [
       "3"
      ]
     },
     "execution_count": 5,
     "metadata": {},
     "output_type": "execute_result"
    }
   ],
   "source": [
    "# 设置断点\n",
    "def test_pdb():\n",
    "    pdb.set_trace()\n",
    "    a = 1\n",
    "    b = 2\n",
    "    c = sum(a, b)\n",
    "    print(c)\n",
    "    return c\n",
    "\n",
    "test_pdb()"
   ]
  }
 ],
 "metadata": {
  "kernelspec": {
   "display_name": "Python 3",
   "language": "python",
   "name": "python3"
  },
  "language_info": {
   "codemirror_mode": {
    "name": "ipython",
    "version": 3
   },
   "file_extension": ".py",
   "mimetype": "text/x-python",
   "name": "python",
   "nbconvert_exporter": "python",
   "pygments_lexer": "ipython3",
   "version": "3.6.5"
  }
 },
 "nbformat": 4,
 "nbformat_minor": 2
}
