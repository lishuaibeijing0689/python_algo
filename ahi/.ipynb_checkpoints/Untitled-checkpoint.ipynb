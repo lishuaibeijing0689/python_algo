{
 "cells": [
  {
   "cell_type": "code",
   "execution_count": 8,
   "metadata": {},
   "outputs": [],
   "source": [
    "import math"
   ]
  },
  {
   "cell_type": "code",
   "execution_count": 19,
   "metadata": {},
   "outputs": [],
   "source": [
    "def get_distance_cat_cols(sample, group, th=0.0):\n",
    "    \"\"\"\n",
    "    计算一个向量 和 若干个和它等长的向量集合之间的距离\n",
    "    \n",
    "    Tips:原始案例可以参考 http://192.168.2.76:5000/notebooks/shupeng/Card/cat_dist.ipynb\n",
    "    \"\"\"\n",
    "    ret = {}\n",
    "    keys = ['dm', 'nx', 'fx', 'ga', 'of', 'esk', 'fd', 'cover']\n",
    "    if not group:\n",
    "        for k in keys:\n",
    "            ret[\"%s\" % (k)] = -1\n",
    "        return ret\n",
    "    stat = get_distance_cat_cols_stat(group)\n",
    "    n = len(group)  # group中的样本数\n",
    "    print(n)\n",
    "    nn = len(group[0])  # 每个样本的属性数目\n",
    "    dm = []\n",
    "    nx = []\n",
    "    fx = []\n",
    "    goodall = []\n",
    "    of = []\n",
    "    eskin = []\n",
    "    fdist = []\n",
    "    cov = []\n",
    "    for item in group:\n",
    "        tdm = 0.0  # item[i]与sample有几个属性不同；\n",
    "        tnx = 0.0  # 不等时，对应属性可取值个数的倒数；\n",
    "        tfx = 0.0  # 不等时，item[i]取值出现频次；\n",
    "        tga = 0.0\n",
    "        tof = 0.0\n",
    "        tes = 0.0\n",
    "        tfd = 0.0  # 使用属性两个取值之间的出现频率差异作为两个属性的距离\n",
    "        for i, val in enumerate(item):\n",
    "            if val == sample[i]:\n",
    "                tof += 1\n",
    "                tes += 1\n",
    "                tfd += 0\n",
    "                tdm += 1\n",
    "            else:\n",
    "                tga += float(stat['freq'][i][val] * stat['freq'][i][val]) / (n * n)\n",
    "                tnx += 1.0 / (stat['airt'][i])\n",
    "                tfx += stat['freq'][i][val]\n",
    "                tof += 1.0/(1.0 + math.log(float(n) / stat['freq'][i][val]) * math.log(\n",
    "                    float(n) / stat['freq'][i].get(sample[i], 0.25)))\n",
    "                tes += (stat['airt'][i] * stat['airt'][i] + 2) / float(stat['airt'][i] * stat['airt'][i])\n",
    "                tfd += float(math.fabs(stat['freq'][i][val] - stat['freq'][i].get(sample[i], 0))) / stat['len']\n",
    "        dm.append(tdm)\n",
    "        #         dm2.append(tdm2)\n",
    "        nx.append(tnx)\n",
    "        fx.append(tfx)\n",
    "        goodall.append(tga)\n",
    "        of.append(tof)\n",
    "        eskin.append(tes)\n",
    "        fdist.append(tfd)\n",
    "        cov.append(float(tdm) / nn)  # 计算sample取值可以覆盖group中多少取值\n",
    "    # 计算每个指标序列的平均值\n",
    "    ls = [dm, nx, fx, goodall, of, eskin, fdist, cov]\n",
    "    keys = ['dm', 'nx', 'fx', 'ga', 'of', 'esk', 'fd', 'cover']\n",
    "\n",
    "    n = len(ls[0])\n",
    "    print(n)\n",
    "    i = 0\n",
    "    for it in ls:\n",
    "        it.sort()\n",
    "        tmp = it[int(th * n):int((1 - th) * n)]\n",
    "        ret[\"%s\" % (keys[i])] = float('%.5f' % ((sum(tmp) / len(tmp))))\n",
    "        i += 1\n",
    "    return ret\n",
    "\n",
    "\n",
    "def get_distance_cat_cols_stat(group):\n",
    "    \"\"\"\n",
    "    get_distance_cat_cols的子函数，对类别做统计\n",
    "    \"\"\"\n",
    "    airt = dict()\n",
    "    freq = dict()\n",
    "    for i in range(len(group[0])):\n",
    "        freq[i] = dict()\n",
    "    for sample in group:\n",
    "        for i, val in enumerate(sample):\n",
    "            sset = airt.get(i, set())\n",
    "            sset.add(val)\n",
    "            airt[i] = sset\n",
    "            cnt = freq[i].get(val, 0)\n",
    "            freq[i][val] = cnt + 1\n",
    "    for key in airt:\n",
    "        airt[key] = len(airt[key])\n",
    "    return {'airt': airt, 'freq': freq, 'len': len(group)}"
   ]
  },
  {
   "cell_type": "code",
   "execution_count": 20,
   "metadata": {},
   "outputs": [],
   "source": [
    "group = [\n",
    "    ['a', 'b', 'c'],\n",
    "    ['a', 'e', 'c'],\n",
    "    ['a', 'b', 'd'],\n",
    "    ['a', 'b', 'd'],\n",
    "]"
   ]
  },
  {
   "cell_type": "code",
   "execution_count": 21,
   "metadata": {},
   "outputs": [
    {
     "data": {
      "text/plain": [
       "{'airt': {0: 1, 1: 2, 2: 2},\n",
       " 'freq': {0: {'a': 4}, 1: {'b': 3, 'e': 1}, 2: {'c': 2, 'd': 2}},\n",
       " 'len': 4}"
      ]
     },
     "execution_count": 21,
     "metadata": {},
     "output_type": "execute_result"
    }
   ],
   "source": [
    "get_distance_cat_cols_stat(group)"
   ]
  },
  {
   "cell_type": "code",
   "execution_count": 22,
   "metadata": {},
   "outputs": [
    {
     "name": "stdout",
     "output_type": "stream",
     "text": [
      "4\n",
      "4\n"
     ]
    },
    {
     "data": {
      "text/plain": [
       "{'dm': 0.75,\n",
       " 'nx': 0.375,\n",
       " 'fx': 1.25,\n",
       " 'ga': 0.14062,\n",
       " 'of': 2.76646,\n",
       " 'esk': 3.375,\n",
       " 'fd': 0.125,\n",
       " 'cover': 0.25}"
      ]
     },
     "execution_count": 22,
     "metadata": {},
     "output_type": "execute_result"
    }
   ],
   "source": [
    "get_distance_cat_cols(['a','b','c'], group)"
   ]
  },
  {
   "cell_type": "code",
   "execution_count": null,
   "metadata": {},
   "outputs": [],
   "source": []
  }
 ],
 "metadata": {
  "kernelspec": {
   "display_name": "Python 3",
   "language": "python",
   "name": "python3"
  },
  "language_info": {
   "codemirror_mode": {
    "name": "ipython",
    "version": 3
   },
   "file_extension": ".py",
   "mimetype": "text/x-python",
   "name": "python",
   "nbconvert_exporter": "python",
   "pygments_lexer": "ipython3",
   "version": "3.6.5"
  }
 },
 "nbformat": 4,
 "nbformat_minor": 2
}
